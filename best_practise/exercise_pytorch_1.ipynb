{
  "nbformat": 4,
  "nbformat_minor": 0,
  "metadata": {
    "colab": {
      "provenance": [],
      "authorship_tag": "ABX9TyORYdMenj+jA4j7FEWFmU7F",
      "include_colab_link": true
    },
    "kernelspec": {
      "name": "python3",
      "display_name": "Python 3"
    },
    "language_info": {
      "name": "python"
    }
  },
  "cells": [
    {
      "cell_type": "markdown",
      "metadata": {
        "id": "view-in-github",
        "colab_type": "text"
      },
      "source": [
        "<a href=\"https://colab.research.google.com/github/shukurullo2004/Machine-learnings/blob/main/exercise_pytorch_1.ipynb\" target=\"_parent\"><img src=\"https://colab.research.google.com/assets/colab-badge.svg\" alt=\"Open In Colab\"/></a>"
      ]
    },
    {
      "cell_type": "code",
      "execution_count": 24,
      "metadata": {
        "id": "guGLiVYpKjKC"
      },
      "outputs": [],
      "source": [
        "import torch\n",
        "from torch import nn\n",
        "import matplotlib.pyplot as plt\n"
      ]
    },
    {
      "cell_type": "code",
      "source": [
        "X = torch.arange(0,5, 0.05).unsqueeze(dim=1)\n",
        "weight = 0.3\n",
        "bias = 0.9\n",
        "y = weight * X + bias"
      ],
      "metadata": {
        "id": "fCyM_2JsMxnk"
      },
      "execution_count": 25,
      "outputs": []
    },
    {
      "cell_type": "code",
      "source": [
        "split_data = int(0.8*len(X))\n",
        "X_train, y_train = X[:split_data], y[:split_data]\n",
        "X_test, y_test = X[split_data:], y[split_data:]\n",
        "len(X_train),len(y_train), len(X_test),len(y_test)"
      ],
      "metadata": {
        "colab": {
          "base_uri": "https://localhost:8080/"
        },
        "id": "EuMSHl9ykps6",
        "outputId": "e5b620e5-e5fd-4570-b0d7-f4f6276fc35b"
      },
      "execution_count": 26,
      "outputs": [
        {
          "output_type": "execute_result",
          "data": {
            "text/plain": [
              "(80, 80, 20, 20)"
            ]
          },
          "metadata": {},
          "execution_count": 26
        }
      ]
    },
    {
      "cell_type": "code",
      "source": [
        "def plot_predictions(train_data = X_train,\n",
        "                     train_label = y_train,\n",
        "                     test_data = X_test,\n",
        "                     test_label = y_test,\n",
        "                     predictions = None):\n",
        "  plt.figure(figsize=(10,7))\n",
        "  plt.scatter(train_data, train_label, c = \"b\", s=4, label = \"Train_data\")\n",
        "  plt.scatter(test_data, test_label, c = \"r\", s=4, label = \"Test_data\")\n",
        "\n",
        "  if predictions is not None:\n",
        "    plt.scatter(test_data, predictions, c = \"g\", s=4, label = \"Predictions\")\n",
        "\n",
        "  plt.legend(prop={\"size\": 14});\n"
      ],
      "metadata": {
        "id": "6gQJIdJYmqEJ"
      },
      "execution_count": 27,
      "outputs": []
    },
    {
      "cell_type": "code",
      "source": [
        "plot_predictions(predictions= None)"
      ],
      "metadata": {
        "colab": {
          "base_uri": "https://localhost:8080/",
          "height": 599
        },
        "id": "UVxm6MYvmyKp",
        "outputId": "c824d5ea-59b5-4d52-9888-89f4764b41c1"
      },
      "execution_count": 28,
      "outputs": [
        {
          "output_type": "display_data",
          "data": {
            "text/plain": [
              "<Figure size 1000x700 with 1 Axes>"
            ],
            "image/png": "[encoded data removed]"
          },
          "metadata": {}
        }
      ]
    },
    {
      "cell_type": "code",
      "source": [
        "class LinearRegressionModel(nn.Module):\n",
        "  def __init__(self):\n",
        "    super().__init__()\n",
        "    self.weight = nn.Parameter(torch.randn(1,\n",
        "                                           requires_grad= True,\n",
        "                                           dtype = torch.float))\n",
        "    self.bias = nn.Parameter(torch.randn(1,\n",
        "                                         requires_grad=True,\n",
        "                                         dtype = torch.float))\n",
        "  def forward(self, x: torch.Tensor) -> torch.Tensor:\n",
        "    return self.weight * x + self.bias\n"
      ],
      "metadata": {
        "id": "oo_sW0Maop9X"
      },
      "execution_count": 29,
      "outputs": []
    },
    {
      "cell_type": "code",
      "source": [
        "torch.manual_seed(25)\n",
        "\n",
        "model_0 = LinearRegressionModel()\n",
        "list(model_0.parameters())"
      ],
      "metadata": {
        "colab": {
          "base_uri": "https://localhost:8080/"
        },
        "id": "zTqz7tf_rABE",
        "outputId": "2ba912be-2e06-4556-fbee-726183d08e7c"
      },
      "execution_count": 30,
      "outputs": [
        {
          "output_type": "execute_result",
          "data": {
            "text/plain": [
              "[Parameter containing:\n",
              " tensor([1.1781], requires_grad=True),\n",
              " Parameter containing:\n",
              " tensor([0.1056], requires_grad=True)]"
            ]
          },
          "metadata": {},
          "execution_count": 30
        }
      ]
    },
    {
      "cell_type": "code",
      "source": [
        "model_0.state_dict()"
      ],
      "metadata": {
        "colab": {
          "base_uri": "https://localhost:8080/"
        },
        "id": "75hGleEqrgCX",
        "outputId": "c38d0176-7ad9-4dbb-d57c-12d0012c767a"
      },
      "execution_count": 31,
      "outputs": [
        {
          "output_type": "execute_result",
          "data": {
            "text/plain": [
              "OrderedDict([('weight', tensor([1.1781])), ('bias', tensor([0.1056]))])"
            ]
          },
          "metadata": {},
          "execution_count": 31
        }
      ]
    },
    {
      "cell_type": "code",
      "source": [
        "with torch.inference_mode():\n",
        "  y_pred = model_0(X_test)\n",
        "len(y_pred)"
      ],
      "metadata": {
        "colab": {
          "base_uri": "https://localhost:8080/"
        },
        "id": "Se0GJdEVsArZ",
        "outputId": "0bb2bfe1-be2f-4b90-d8ed-a6ef6e04e073"
      },
      "execution_count": 32,
      "outputs": [
        {
          "output_type": "execute_result",
          "data": {
            "text/plain": [
              "20"
            ]
          },
          "metadata": {},
          "execution_count": 32
        }
      ]
    },
    {
      "cell_type": "code",
      "source": [
        "plot_predictions(predictions=y_pred)"
      ],
      "metadata": {
        "colab": {
          "base_uri": "https://localhost:8080/",
          "height": 599
        },
        "id": "PKpofrvFsasS",
        "outputId": "fee903b1-ad04-491a-ec0a-dfc57b9e570c"
      },
      "execution_count": 33,
      "outputs": [
        {
          "output_type": "display_data",
          "data": {
            "text/plain": [
              "<Figure size 1000x700 with 1 Axes>"
            ],
            "image/png": "[encoded data removed]"
          },
          "metadata": {}
        }
      ]
    },
    {
      "cell_type": "code",
      "source": [
        "loss_fn = nn.L1Loss()\n",
        "optimizer = torch.optim.SGD(params=model_0.parameters(),\n",
        "                            lr = 0.001)"
      ],
      "metadata": {
        "id": "-2c8Go5YtG8D"
      },
      "execution_count": 34,
      "outputs": []
    },
    {
      "cell_type": "code",
      "source": [
        "import numpy as np"
      ],
      "metadata": {
        "id": "BAEAYuHN0yGs"
      },
      "execution_count": 35,
      "outputs": []
    },
    {
      "cell_type": "code",
      "source": [
        "torch.manual_seed(25)\n",
        "\n",
        "epochs = 3000\n",
        "\n",
        "epoch_list = []\n",
        "train_loss_list = []\n",
        "test_loss_list = []\n",
        "\n",
        "for epoch in range(epochs):\n",
        "\n",
        "  model_0.train()\n",
        "  y_pred = model_0(X_train)\n",
        "  loss = loss_fn(y_pred, y_train)\n",
        "  optimizer.zero_grad()\n",
        "  loss.backward()\n",
        "  optimizer.step()\n",
        "\n",
        "  model_0.eval()\n",
        "  with torch.inference_mode():\n",
        "    test_pred = model_0(X_test)\n",
        "    test_loss = loss_fn(test_pred, y_test.type(torch.float))\n",
        "    if epoch%20 == 0:\n",
        "      epoch_list.append(epoch)\n",
        "      train_loss_list.append(loss.detach().numpy())\n",
        "      test_loss_list.append(test_loss.detach().numpy())\n",
        "\n",
        "      print(f\"Epoch: {epoch} | MAE Train Loss: {loss} | MAE Test Loss: {test_loss} \")\n"
      ],
      "metadata": {
        "colab": {
          "base_uri": "https://localhost:8080/"
        },
        "id": "L-LZtUPqvilq",
        "outputId": "c316a96d-bebb-40b6-da82-50689c52509b"
      },
      "execution_count": 36,
      "outputs": [
        {
          "output_type": "stream",
          "name": "stdout",
          "text": [
            "Epoch: 0 | MAE Train Loss: 1.1293952465057373 | MAE Test Loss: 3.1264538764953613 \n",
            "Epoch: 20 | MAE Train Loss: 1.0620044469833374 | MAE Test Loss: 2.9585890769958496 \n",
            "Epoch: 40 | MAE Train Loss: 0.9969615936279297 | MAE Test Loss: 2.793632984161377 \n",
            "Epoch: 60 | MAE Train Loss: 0.9343681335449219 | MAE Test Loss: 2.631723642349243 \n",
            "Epoch: 80 | MAE Train Loss: 0.874370276927948 | MAE Test Loss: 2.4731364250183105 \n",
            "Epoch: 100 | MAE Train Loss: 0.8171119689941406 | MAE Test Loss: 2.3181777000427246 \n",
            "Epoch: 120 | MAE Train Loss: 0.7628336548805237 | MAE Test Loss: 2.1673285961151123 \n",
            "Epoch: 140 | MAE Train Loss: 0.7120269536972046 | MAE Test Loss: 2.021289348602295 \n",
            "Epoch: 160 | MAE Train Loss: 0.6643552780151367 | MAE Test Loss: 1.879940390586853 \n",
            "Epoch: 180 | MAE Train Loss: 0.6207176446914673 | MAE Test Loss: 1.7447839975357056 \n",
            "Epoch: 200 | MAE Train Loss: 0.5806779265403748 | MAE Test Loss: 1.615566611289978 \n",
            "Epoch: 220 | MAE Train Loss: 0.5444712042808533 | MAE Test Loss: 1.4927427768707275 \n",
            "Epoch: 240 | MAE Train Loss: 0.5124551653862 | MAE Test Loss: 1.377678632736206 \n",
            "Epoch: 260 | MAE Train Loss: 0.48439329862594604 | MAE Test Loss: 1.2705401182174683 \n",
            "Epoch: 280 | MAE Train Loss: 0.46007242798805237 | MAE Test Loss: 1.171216368675232 \n",
            "Epoch: 300 | MAE Train Loss: 0.43941885232925415 | MAE Test Loss: 1.0805128812789917 \n",
            "Epoch: 320 | MAE Train Loss: 0.4222380518913269 | MAE Test Loss: 0.9985309839248657 \n",
            "Epoch: 340 | MAE Train Loss: 0.4081575870513916 | MAE Test Loss: 0.9258891344070435 \n",
            "Epoch: 360 | MAE Train Loss: 0.3964933753013611 | MAE Test Loss: 0.8610336184501648 \n",
            "Epoch: 380 | MAE Train Loss: 0.3872423470020294 | MAE Test Loss: 0.8053210973739624 \n",
            "Epoch: 400 | MAE Train Loss: 0.37959548830986023 | MAE Test Loss: 0.756738543510437 \n",
            "Epoch: 420 | MAE Train Loss: 0.3732888102531433 | MAE Test Loss: 0.7151627540588379 \n",
            "Epoch: 440 | MAE Train Loss: 0.36803168058395386 | MAE Test Loss: 0.680147647857666 \n",
            "Epoch: 460 | MAE Train Loss: 0.3635479807853699 | MAE Test Loss: 0.6512227058410645 \n",
            "Epoch: 480 | MAE Train Loss: 0.3595518469810486 | MAE Test Loss: 0.6272546648979187 \n",
            "Epoch: 500 | MAE Train Loss: 0.3557818531990051 | MAE Test Loss: 0.6057851314544678 \n",
            "Epoch: 520 | MAE Train Loss: 0.35239434242248535 | MAE Test Loss: 0.589687705039978 \n",
            "Epoch: 540 | MAE Train Loss: 0.3490067422389984 | MAE Test Loss: 0.5735902786254883 \n",
            "Epoch: 560 | MAE Train Loss: 0.34580403566360474 | MAE Test Loss: 0.5626343488693237 \n",
            "Epoch: 580 | MAE Train Loss: 0.34266024827957153 | MAE Test Loss: 0.5529635548591614 \n",
            "Epoch: 600 | MAE Train Loss: 0.33951640129089355 | MAE Test Loss: 0.5432928204536438 \n",
            "Epoch: 620 | MAE Train Loss: 0.33637258410453796 | MAE Test Loss: 0.533622145652771 \n",
            "Epoch: 640 | MAE Train Loss: 0.3332287669181824 | MAE Test Loss: 0.5239514112472534 \n",
            "Epoch: 660 | MAE Train Loss: 0.3301232159137726 | MAE Test Loss: 0.51755291223526 \n",
            "Epoch: 680 | MAE Train Loss: 0.3270359933376312 | MAE Test Loss: 0.512790322303772 \n",
            "Epoch: 700 | MAE Train Loss: 0.32394829392433167 | MAE Test Loss: 0.5080277323722839 \n",
            "Epoch: 720 | MAE Train Loss: 0.32086053490638733 | MAE Test Loss: 0.5032651424407959 \n",
            "Epoch: 740 | MAE Train Loss: 0.3177736699581146 | MAE Test Loss: 0.49817532300949097 \n",
            "Epoch: 760 | MAE Train Loss: 0.31468647718429565 | MAE Test Loss: 0.49341297149658203 \n",
            "Epoch: 780 | MAE Train Loss: 0.3115987181663513 | MAE Test Loss: 0.4886504113674164 \n",
            "Epoch: 800 | MAE Train Loss: 0.30851098895072937 | MAE Test Loss: 0.48388776183128357 \n",
            "Epoch: 820 | MAE Train Loss: 0.30542412400245667 | MAE Test Loss: 0.4787980020046234 \n",
            "Epoch: 840 | MAE Train Loss: 0.3023368716239929 | MAE Test Loss: 0.47403544187545776 \n",
            "Epoch: 860 | MAE Train Loss: 0.29924914240837097 | MAE Test Loss: 0.4692728519439697 \n",
            "Epoch: 880 | MAE Train Loss: 0.2961615025997162 | MAE Test Loss: 0.4645102620124817 \n",
            "Epoch: 900 | MAE Train Loss: 0.2930746078491211 | MAE Test Loss: 0.45942068099975586 \n",
            "Epoch: 920 | MAE Train Loss: 0.28998667001724243 | MAE Test Loss: 0.4548214077949524 \n",
            "Epoch: 940 | MAE Train Loss: 0.2868998050689697 | MAE Test Loss: 0.4497317373752594 \n",
            "Epoch: 960 | MAE Train Loss: 0.28381258249282837 | MAE Test Loss: 0.4449692666530609 \n",
            "Epoch: 980 | MAE Train Loss: 0.2807248830795288 | MAE Test Loss: 0.44020670652389526 \n",
            "Epoch: 1000 | MAE Train Loss: 0.27763715386390686 | MAE Test Loss: 0.4354441165924072 \n",
            "Epoch: 1020 | MAE Train Loss: 0.27455025911331177 | MAE Test Loss: 0.4303542971611023 \n",
            "Epoch: 1040 | MAE Train Loss: 0.2714630365371704 | MAE Test Loss: 0.42559170722961426 \n",
            "Epoch: 1060 | MAE Train Loss: 0.26837533712387085 | MAE Test Loss: 0.4208291471004486 \n",
            "Epoch: 1080 | MAE Train Loss: 0.2652876079082489 | MAE Test Loss: 0.4160667359828949 \n",
            "Epoch: 1100 | MAE Train Loss: 0.2622007429599762 | MAE Test Loss: 0.41097694635391235 \n",
            "Epoch: 1120 | MAE Train Loss: 0.25911352038383484 | MAE Test Loss: 0.4062144160270691 \n",
            "Epoch: 1140 | MAE Train Loss: 0.2560257911682129 | MAE Test Loss: 0.4014517664909363 \n",
            "Epoch: 1160 | MAE Train Loss: 0.25293809175491333 | MAE Test Loss: 0.39668917655944824 \n",
            "Epoch: 1180 | MAE Train Loss: 0.24985118210315704 | MAE Test Loss: 0.3915993869304657 \n",
            "Epoch: 1200 | MAE Train Loss: 0.24676398932933807 | MAE Test Loss: 0.3868369162082672 \n",
            "Epoch: 1220 | MAE Train Loss: 0.24367627501487732 | MAE Test Loss: 0.3820744454860687 \n",
            "Epoch: 1240 | MAE Train Loss: 0.24058854579925537 | MAE Test Loss: 0.3773118853569031 \n",
            "Epoch: 1260 | MAE Train Loss: 0.23750166594982147 | MAE Test Loss: 0.37222209572792053 \n",
            "Epoch: 1280 | MAE Train Loss: 0.23441442847251892 | MAE Test Loss: 0.3674594759941101 \n",
            "Epoch: 1300 | MAE Train Loss: 0.23132672905921936 | MAE Test Loss: 0.36269694566726685 \n",
            "Epoch: 1320 | MAE Train Loss: 0.2282390147447586 | MAE Test Loss: 0.3579343259334564 \n",
            "Epoch: 1340 | MAE Train Loss: 0.22515206038951874 | MAE Test Loss: 0.35284391045570374 \n",
            "Epoch: 1360 | MAE Train Loss: 0.22206485271453857 | MAE Test Loss: 0.3480793535709381 \n",
            "Epoch: 1380 | MAE Train Loss: 0.21897706389427185 | MAE Test Loss: 0.3433147966861725 \n",
            "Epoch: 1400 | MAE Train Loss: 0.21588930487632751 | MAE Test Loss: 0.3385501801967621 \n",
            "Epoch: 1420 | MAE Train Loss: 0.2128022015094757 | MAE Test Loss: 0.3334585130214691 \n",
            "Epoch: 1440 | MAE Train Loss: 0.2097150981426239 | MAE Test Loss: 0.3286939263343811 \n",
            "Epoch: 1460 | MAE Train Loss: 0.20662732422351837 | MAE Test Loss: 0.32392945885658264 \n",
            "Epoch: 1480 | MAE Train Loss: 0.20353956520557404 | MAE Test Loss: 0.3191649913787842 \n",
            "Epoch: 1500 | MAE Train Loss: 0.20045232772827148 | MAE Test Loss: 0.31407326459884644 \n",
            "Epoch: 1520 | MAE Train Loss: 0.19736535847187042 | MAE Test Loss: 0.3093087077140808 \n",
            "Epoch: 1540 | MAE Train Loss: 0.1942775696516037 | MAE Test Loss: 0.3045441508293152 \n",
            "Epoch: 1560 | MAE Train Loss: 0.19118979573249817 | MAE Test Loss: 0.29977959394454956 \n",
            "Epoch: 1580 | MAE Train Loss: 0.18810245394706726 | MAE Test Loss: 0.2946879267692566 \n",
            "Epoch: 1600 | MAE Train Loss: 0.18501560389995575 | MAE Test Loss: 0.2899234890937805 \n",
            "Epoch: 1620 | MAE Train Loss: 0.18192753195762634 | MAE Test Loss: 0.2849953770637512 \n",
            "Epoch: 1640 | MAE Train Loss: 0.1788407415151596 | MAE Test Loss: 0.2802307605743408 \n",
            "Epoch: 1660 | MAE Train Loss: 0.17575296759605408 | MAE Test Loss: 0.27546629309654236 \n",
            "Epoch: 1680 | MAE Train Loss: 0.17266519367694855 | MAE Test Loss: 0.2707017958164215 \n",
            "Epoch: 1700 | MAE Train Loss: 0.16957765817642212 | MAE Test Loss: 0.26561009883880615 \n",
            "Epoch: 1720 | MAE Train Loss: 0.1664910465478897 | MAE Test Loss: 0.2608453035354614 \n",
            "Epoch: 1740 | MAE Train Loss: 0.1634034365415573 | MAE Test Loss: 0.2560803294181824 \n",
            "Epoch: 1760 | MAE Train Loss: 0.1603158414363861 | MAE Test Loss: 0.2513153851032257 \n",
            "Epoch: 1780 | MAE Train Loss: 0.15722832083702087 | MAE Test Loss: 0.24622325599193573 \n",
            "Epoch: 1800 | MAE Train Loss: 0.15414197742938995 | MAE Test Loss: 0.24145832657814026 \n",
            "Epoch: 1820 | MAE Train Loss: 0.15105435252189636 | MAE Test Loss: 0.2366933375597 \n",
            "Epoch: 1840 | MAE Train Loss: 0.14796674251556396 | MAE Test Loss: 0.23192831873893738 \n",
            "Epoch: 1860 | MAE Train Loss: 0.14487913250923157 | MAE Test Loss: 0.22716331481933594 \n",
            "Epoch: 1880 | MAE Train Loss: 0.14179271459579468 | MAE Test Loss: 0.22207121551036835 \n",
            "Epoch: 1900 | MAE Train Loss: 0.1387052685022354 | MAE Test Loss: 0.2173062264919281 \n",
            "Epoch: 1920 | MAE Train Loss: 0.13561765849590302 | MAE Test Loss: 0.21254125237464905 \n",
            "Epoch: 1940 | MAE Train Loss: 0.1325300633907318 | MAE Test Loss: 0.2077762633562088 \n",
            "Epoch: 1960 | MAE Train Loss: 0.1294434666633606 | MAE Test Loss: 0.2026841938495636 \n",
            "Epoch: 1980 | MAE Train Loss: 0.12635619938373566 | MAE Test Loss: 0.19791918992996216 \n",
            "Epoch: 2000 | MAE Train Loss: 0.12326856702566147 | MAE Test Loss: 0.1931542158126831 \n",
            "Epoch: 2020 | MAE Train Loss: 0.12018096446990967 | MAE Test Loss: 0.18838919699192047 \n",
            "Epoch: 2040 | MAE Train Loss: 0.11709420382976532 | MAE Test Loss: 0.18329717218875885 \n",
            "Epoch: 2060 | MAE Train Loss: 0.11400710046291351 | MAE Test Loss: 0.1785321682691574 \n",
            "Epoch: 2080 | MAE Train Loss: 0.11091949045658112 | MAE Test Loss: 0.17376716434955597 \n",
            "Epoch: 2100 | MAE Train Loss: 0.10783188045024872 | MAE Test Loss: 0.16900214552879333 \n",
            "Epoch: 2120 | MAE Train Loss: 0.10474495589733124 | MAE Test Loss: 0.1639101207256317 \n",
            "Epoch: 2140 | MAE Train Loss: 0.10165800899267197 | MAE Test Loss: 0.15914511680603027 \n",
            "Epoch: 2160 | MAE Train Loss: 0.09857039898633957 | MAE Test Loss: 0.15438011288642883 \n",
            "Epoch: 2180 | MAE Train Loss: 0.09548278898000717 | MAE Test Loss: 0.1496151089668274 \n",
            "Epoch: 2200 | MAE Train Loss: 0.09239570796489716 | MAE Test Loss: 0.14452305436134338 \n",
            "Epoch: 2220 | MAE Train Loss: 0.08930892497301102 | MAE Test Loss: 0.13975808024406433 \n",
            "Epoch: 2240 | MAE Train Loss: 0.08622130751609802 | MAE Test Loss: 0.1349930614233017 \n",
            "Epoch: 2260 | MAE Train Loss: 0.08313371241092682 | MAE Test Loss: 0.13022807240486145 \n",
            "Epoch: 2280 | MAE Train Loss: 0.08004644513130188 | MAE Test Loss: 0.12513600289821625 \n",
            "Epoch: 2300 | MAE Train Loss: 0.07695983350276947 | MAE Test Loss: 0.12037099897861481 \n",
            "Epoch: 2320 | MAE Train Loss: 0.07387222349643707 | MAE Test Loss: 0.11560600996017456 \n",
            "Epoch: 2340 | MAE Train Loss: 0.07078461349010468 | MAE Test Loss: 0.11084099858999252 \n",
            "Epoch: 2360 | MAE Train Loss: 0.06769721210002899 | MAE Test Loss: 0.1057489663362503 \n",
            "Epoch: 2380 | MAE Train Loss: 0.06461074948310852 | MAE Test Loss: 0.10098396241664886 \n",
            "Epoch: 2400 | MAE Train Loss: 0.06152313947677612 | MAE Test Loss: 0.09621895849704742 \n",
            "Epoch: 2420 | MAE Train Loss: 0.05843553692102432 | MAE Test Loss: 0.09145398437976837 \n",
            "Epoch: 2440 | MAE Train Loss: 0.05534794181585312 | MAE Test Loss: 0.08636192977428436 \n",
            "Epoch: 2460 | MAE Train Loss: 0.052261583507061005 | MAE Test Loss: 0.08159692585468292 \n",
            "Epoch: 2480 | MAE Train Loss: 0.04917406290769577 | MAE Test Loss: 0.07683189958333969 \n",
            "Epoch: 2500 | MAE Train Loss: 0.04608644172549248 | MAE Test Loss: 0.07206691801548004 \n",
            "Epoch: 2520 | MAE Train Loss: 0.04299883171916008 | MAE Test Loss: 0.0673019140958786 \n",
            "Epoch: 2540 | MAE Train Loss: 0.03991233557462692 | MAE Test Loss: 0.06220988184213638 \n",
            "Epoch: 2560 | MAE Train Loss: 0.03682427853345871 | MAE Test Loss: 0.05760848522186279 \n",
            "Epoch: 2580 | MAE Train Loss: 0.033737704157829285 | MAE Test Loss: 0.052516449242830276 \n",
            "Epoch: 2600 | MAE Train Loss: 0.030650418251752853 | MAE Test Loss: 0.04775143787264824 \n",
            "Epoch: 2620 | MAE Train Loss: 0.027562802657485008 | MAE Test Loss: 0.042986463755369186 \n",
            "Epoch: 2640 | MAE Train Loss: 0.024475200101733208 | MAE Test Loss: 0.038221441209316254 \n",
            "Epoch: 2660 | MAE Train Loss: 0.021388445049524307 | MAE Test Loss: 0.03312939405441284 \n",
            "Epoch: 2680 | MAE Train Loss: 0.01830063760280609 | MAE Test Loss: 0.02852802351117134 \n",
            "Epoch: 2700 | MAE Train Loss: 0.015213817358016968 | MAE Test Loss: 0.023435961455106735 \n",
            "Epoch: 2720 | MAE Train Loss: 0.012126779183745384 | MAE Test Loss: 0.01867096498608589 \n",
            "Epoch: 2740 | MAE Train Loss: 0.009039170108735561 | MAE Test Loss: 0.013905966654419899 \n",
            "Epoch: 2760 | MAE Train Loss: 0.00595155730843544 | MAE Test Loss: 0.009140944108366966 \n",
            "Epoch: 2780 | MAE Train Loss: 0.002864561975002289 | MAE Test Loss: 0.0040489076636731625 \n",
            "Epoch: 2800 | MAE Train Loss: 0.002408389700576663 | MAE Test Loss: 0.00299929385073483 \n",
            "Epoch: 2820 | MAE Train Loss: 0.0034060024190694094 | MAE Test Loss: 0.0021421313285827637 \n",
            "Epoch: 2840 | MAE Train Loss: 0.0034060024190694094 | MAE Test Loss: 0.0021421313285827637 \n",
            "Epoch: 2860 | MAE Train Loss: 0.0034060024190694094 | MAE Test Loss: 0.0021421313285827637 \n",
            "Epoch: 2880 | MAE Train Loss: 0.0034060024190694094 | MAE Test Loss: 0.0021421313285827637 \n",
            "Epoch: 2900 | MAE Train Loss: 0.0034060024190694094 | MAE Test Loss: 0.0021421313285827637 \n",
            "Epoch: 2920 | MAE Train Loss: 0.0034060024190694094 | MAE Test Loss: 0.0021421313285827637 \n",
            "Epoch: 2940 | MAE Train Loss: 0.0034060024190694094 | MAE Test Loss: 0.0021421313285827637 \n",
            "Epoch: 2960 | MAE Train Loss: 0.0034060024190694094 | MAE Test Loss: 0.0021421313285827637 \n",
            "Epoch: 2980 | MAE Train Loss: 0.0034060024190694094 | MAE Test Loss: 0.0021421313285827637 \n"
          ]
        }
      ]
    },
    {
      "cell_type": "code",
      "source": [
        "model_0.state_dict()"
      ],
      "metadata": {
        "colab": {
          "base_uri": "https://localhost:8080/"
        },
        "id": "IdpksTC3ym8C",
        "outputId": "0009ff51-2796-4242-c837-7ebed1f730eb"
      },
      "execution_count": 37,
      "outputs": [
        {
          "output_type": "execute_result",
          "data": {
            "text/plain": [
              "OrderedDict([('weight', tensor([0.3017])), ('bias', tensor([0.9000]))])"
            ]
          },
          "metadata": {},
          "execution_count": 37
        }
      ]
    },
    {
      "cell_type": "code",
      "source": [
        "plt.plot(epoch_list, train_loss_list, label=\"Train loss\")\n",
        "plt.plot(epoch_list, test_loss_list, label=\"Test loss\")\n",
        "plt.title(\"Training and test loss curves\")\n",
        "plt.ylabel(\"Loss\")\n",
        "plt.xlabel(\"Epochs\")\n",
        "plt.legend();"
      ],
      "metadata": {
        "colab": {
          "base_uri": "https://localhost:8080/",
          "height": 472
        },
        "id": "GyYaJdw4zdVA",
        "outputId": "d246079c-33e7-41b7-a203-115d6f91a3b1"
      },
      "execution_count": 38,
      "outputs": [
        {
          "output_type": "display_data",
          "data": {
            "text/plain": [
              "<Figure size 640x480 with 1 Axes>"
            ],
            "image/png": "[encoded data removed]"
          },
          "metadata": {}
        }
      ]
    },
    {
      "cell_type": "code",
      "source": [
        "model_0.eval()\n",
        "with torch.inference_mode():\n",
        "  y_pred = model_0(X_test)\n",
        "plot_predictions(predictions=y_pred)"
      ],
      "metadata": {
        "colab": {
          "base_uri": "https://localhost:8080/",
          "height": 599
        },
        "id": "kbCJZoCAz6U3",
        "outputId": "f4d32950-0d79-41e2-b6c9-addd9f5ad409"
      },
      "execution_count": 39,
      "outputs": [
        {
          "output_type": "display_data",
          "data": {
            "text/plain": [
              "<Figure size 1000x700 with 1 Axes>"
            ],
            "image/png": "[encoded data removed]"
          },
          "metadata": {}
        }
      ]
    },
    {
      "cell_type": "code",
      "source": [
        "from pathlib import Path\n",
        "\n",
        "# 1. Create models directory\n",
        "MODEL_PATH = Path(\"models\")\n",
        "MODEL_PATH.mkdir(parents=True, exist_ok=True)\n",
        "\n",
        "# 2. Create model save path\n",
        "MODEL_NAME = \"Exercise.pth\"\n",
        "MODEL_SAVE_PATH = MODEL_PATH / MODEL_NAME\n",
        "\n",
        "# 3. Save the model state dict\n",
        "print(f\"Saving model to: {MODEL_SAVE_PATH}\")\n",
        "torch.save(obj=model_0.state_dict(), # only saving the state_dict() only saves the models learned parameters\n",
        "           f=MODEL_SAVE_PATH)"
      ],
      "metadata": {
        "colab": {
          "base_uri": "https://localhost:8080/"
        },
        "id": "m6oJ2f7_1xt1",
        "outputId": "341c4ea0-db22-4b07-b0d2-13b19aa35329"
      },
      "execution_count": 40,
      "outputs": [
        {
          "output_type": "stream",
          "name": "stdout",
          "text": [
            "Saving model to: models/Exercise.pth\n"
          ]
        }
      ]
    },
    {
      "cell_type": "code",
      "source": [
        "!ls -l models/Exercise.pth"
      ],
      "metadata": {
        "colab": {
          "base_uri": "https://localhost:8080/"
        },
        "id": "gYKycXNu4GM6",
        "outputId": "56388c87-db4d-4ce8-e0f7-c9e60f1b18e0"
      },
      "execution_count": 41,
      "outputs": [
        {
          "output_type": "stream",
          "name": "stdout",
          "text": [
            "-rw-r--r-- 1 root root 1502 Jan 11 11:44 models/Exercise.pth\n"
          ]
        }
      ]
    },
    {
      "cell_type": "code",
      "source": [
        "loaded_model_0 = LinearRegressionModel()\n",
        "\n",
        "# Load the state_dict of our saved model (this will update the new instance of our model with trained weights)\n",
        "loaded_model_0.load_state_dict(torch.load(f=MODEL_SAVE_PATH))\n",
        "\n",
        "loaded_model_0.eval()\n",
        "\n",
        "# 2. Use the inference mode context manager to make predictions\n",
        "with torch.inference_mode():\n",
        "    loaded_model_preds = loaded_model_0(X_test) # perform a forward pass on the test data with the loaded model\n",
        "\n",
        "y_pred == loaded_model_preds"
      ],
      "metadata": {
        "colab": {
          "base_uri": "https://localhost:8080/"
        },
        "id": "0E6v7NnB4OgI",
        "outputId": "153aa527-dcc5-4e6a-c389-3e4112ee2230"
      },
      "execution_count": 42,
      "outputs": [
        {
          "output_type": "execute_result",
          "data": {
            "text/plain": [
              "tensor([[True],\n",
              "        [True],\n",
              "        [True],\n",
              "        [True],\n",
              "        [True],\n",
              "        [True],\n",
              "        [True],\n",
              "        [True],\n",
              "        [True],\n",
              "        [True],\n",
              "        [True],\n",
              "        [True],\n",
              "        [True],\n",
              "        [True],\n",
              "        [True],\n",
              "        [True],\n",
              "        [True],\n",
              "        [True],\n",
              "        [True],\n",
              "        [True]])"
            ]
          },
          "metadata": {},
          "execution_count": 42
        }
      ]
    },
    {
      "cell_type": "code",
      "source": [],
      "metadata": {
        "id": "0pg1-Y_G4xne"
      },
      "execution_count": 42,
      "outputs": []
    }
  ]
}