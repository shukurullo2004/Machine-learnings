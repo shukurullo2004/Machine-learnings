{
 "cells": [
  {
   "cell_type": "code",
   "execution_count": 8,
   "metadata": {},
   "outputs": [
    {
     "name": "stdout",
     "output_type": "stream",
     "text": [
      "Epoch 1/10\n",
      "4/4 [==============================] - 0s 2ms/step - loss: 0.6881 - accuracy: 0.2500\n",
      "Epoch 2/10\n",
      "4/4 [==============================] - 0s 2ms/step - loss: 0.6871 - accuracy: 0.7500\n",
      "Epoch 3/10\n",
      "4/4 [==============================] - 0s 2ms/step - loss: 0.6848 - accuracy: 0.2500\n",
      "Epoch 4/10\n",
      "4/4 [==============================] - 0s 2ms/step - loss: 0.6842 - accuracy: 0.2500\n",
      "Epoch 5/10\n",
      "4/4 [==============================] - 0s 2ms/step - loss: 0.6824 - accuracy: 0.2500\n",
      "Epoch 6/10\n",
      "4/4 [==============================] - 0s 2ms/step - loss: 0.6811 - accuracy: 0.2500\n",
      "Epoch 7/10\n",
      "4/4 [==============================] - 0s 3ms/step - loss: 0.6797 - accuracy: 0.2500\n",
      "Epoch 8/10\n",
      "4/4 [==============================] - 0s 2ms/step - loss: 0.6792 - accuracy: 0.2500\n",
      "Epoch 9/10\n",
      "4/4 [==============================] - 0s 2ms/step - loss: 0.6797 - accuracy: 0.2500\n",
      "Epoch 10/10\n",
      "4/4 [==============================] - 0s 3ms/step - loss: 0.6786 - accuracy: 0.2500\n",
      "1/1 [==============================] - 0s 68ms/step\n",
      "[[0.47541255]\n",
      " [0.5004396 ]]\n"
     ]
    }
   ],
   "source": [
    "from tensorflow.keras.models import Sequential\n",
    "from tensorflow.keras.layers import Dense\n",
    "import numpy as np\n",
    "\n",
    "layer_1 = Dense(units=3, activation=\"sigmoid\")\n",
    "layer_2 = Dense(units=1, activation=\"sigmoid\")\n",
    "model = Sequential([layer_1, layer_2])\n",
    "\n",
    "x = np.array([[200.0, 17.0],\n",
    "              [120.0, 15.0],\n",
    "              [425.0, 20.0],\n",
    "              [212.0, 18.0]])\n",
    "y = np.array([1, 0, 0, 1])\n",
    "\n",
    "model.compile(loss=\"binary_crossentropy\", optimizer=\"adam\", metrics=[\"accuracy\"])\n",
    "model.fit(x, y, epochs=10, batch_size=1)\n",
    "\n",
    "x_new = np.array([[150.0, 16.0], [300.0, 19.0]])\n",
    "predictions = model.predict(x_new)\n",
    "print(predictions)\n"
   ]
  }
 ],
 "metadata": {
  "kernelspec": {
   "display_name": ".venv",
   "language": "python",
   "name": "python3"
  },
  "language_info": {
   "codemirror_mode": {
    "name": "ipython",
    "version": 3
   },
   "file_extension": ".py",
   "mimetype": "text/x-python",
   "name": "python",
   "nbconvert_exporter": "python",
   "pygments_lexer": "ipython3",
   "version": "3.11.4"
  },
  "orig_nbformat": 4
 },
 "nbformat": 4,
 "nbformat_minor": 2
}
