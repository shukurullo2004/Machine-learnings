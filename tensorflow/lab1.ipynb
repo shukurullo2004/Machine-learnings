{
 "cells": [
  {
   "cell_type": "code",
   "execution_count": 1,
   "metadata": {},
   "outputs": [
    {
     "name": "stderr",
     "output_type": "stream",
     "text": [
      "2023-07-23 08:59:12.814858: I tensorflow/core/platform/cpu_feature_guard.cc:182] This TensorFlow binary is optimized to use available CPU instructions in performance-critical operations.\n",
      "To enable the following instructions: AVX2 FMA, in other operations, rebuild TensorFlow with the appropriate compiler flags.\n"
     ]
    }
   ],
   "source": [
    "from tensorflow.keras.models import Sequential\n",
    "from tensorflow.keras.layers import Dense\n",
    "import numpy as np\n",
    "\n",
    "layer_1 = Dense(units=3, activation=\"sigmoid\")\n",
    "layer_2 = Dense(units=1, activation=\"sigmoid\")\n",
    "model = Sequential([layer_1, layer_2])\n",
    "\n",
    "x = np.array([[200.0, 17.0],\n",
    "              [120.0, 15.0],\n",
    "              [425.0, 20.0],\n",
    "              [212.0, 18.0]])\n",
    "y = np.array([1, 0, 0, 1])\n",
    "\n",
    "model.compile(loss=\"binary_crossentropy\", optimizer=\"adam\", metrics=[\"accuracy\"])\n",
    "model.fit(x, y, epochs=10, batch_size=1)\n",
    "\n",
    "x_new = np.array([[150.0, 16.0], [300.0, 19.0]])\n",
    "predictions = model.predict(x_new)\n",
    "print(predictions)\n"
   ]
  }
 ],
 "metadata": {
  "kernelspec": {
   "display_name": ".venv",
   "language": "python",
   "name": "python3"
  },
  "language_info": {
   "codemirror_mode": {
    "name": "ipython",
    "version": 3
   },
   "file_extension": ".py",
   "mimetype": "text/x-python",
   "name": "python",
   "nbconvert_exporter": "python",
   "pygments_lexer": "ipython3",
   "version": "3.11.4"
  },
  "orig_nbformat": 4
 },
 "nbformat": 4,
 "nbformat_minor": 2
}
