{
  "nbformat": 4,
  "nbformat_minor": 0,
  "metadata": {
    "colab": {
      "provenance": [],
      "gpuType": "T4",
      "authorship_tag": "ABX9TyP1O0qoOGwEh2B2C5dyFit+",
      "include_colab_link": true
    },
    "kernelspec": {
      "name": "python3",
      "display_name": "Python 3"
    },
    "language_info": {
      "name": "python"
    },
    "accelerator": "GPU"
  },
  "cells": [
    {
      "cell_type": "markdown",
      "metadata": {
        "id": "view-in-github",
        "colab_type": "text"
      },
      "source": [
        "<a href=\"https://colab.research.google.com/github/shukurullo2004/Machine-learnings/blob/main/TensFlow_fashionMNIST.ipynb\" target=\"_parent\"><img src=\"https://colab.research.google.com/assets/colab-badge.svg\" alt=\"Open In Colab\"/></a>"
      ]
    },
    {
      "cell_type": "markdown",
      "source": [
        "# NN da 88% acc, CNN 91% acc\n",
        "*model architecture differ from last pytorch fashion-mnist it was 89% on both NN and CNN*"
      ],
      "metadata": {
        "id": "RDcWaf1KMzyB"
      }
    },
    {
      "cell_type": "code",
      "execution_count": 1,
      "metadata": {
        "id": "v5dJSZo3GSSP"
      },
      "outputs": [],
      "source": [
        "import tensorflow as tf\n",
        "import matplotlib.pyplot as plt\n",
        "import numpy as np\n",
        "from tensorflow.keras import datasets,models,layers"
      ]
    },
    {
      "cell_type": "code",
      "source": [
        "(training_image, training_label), (testing_image, testing_label) = datasets.fashion_mnist.load_data()"
      ],
      "metadata": {
        "id": "trQgpBj8Gcry"
      },
      "execution_count": 2,
      "outputs": []
    },
    {
      "cell_type": "code",
      "source": [
        "plt.imshow(training_image[1])"
      ],
      "metadata": {
        "id": "STJ6bybpl7-Y",
        "colab": {
          "base_uri": "https://localhost:8080/",
          "height": 448
        },
        "outputId": "8773714f-5f47-4608-ba4a-0bebcb4de4ab"
      },
      "execution_count": 3,
      "outputs": [
        {
          "output_type": "execute_result",
          "data": {
            "text/plain": [
              "<matplotlib.image.AxesImage at 0x7b7237464550>"
            ]
          },
          "metadata": {},
          "execution_count": 3
        },
        {
          "output_type": "display_data",
          "data": {
            "text/plain": [
              "<Figure size 640x480 with 1 Axes>"
            ],
            "image/png": "[encoded data removed]"
          },
          "metadata": {}
        }
      ]
    },
    {
      "cell_type": "code",
      "source": [
        "training_image = training_image.reshape(60000, 28, 28, 1)\n",
        "testing_image = testing_image.reshape(10000,28,28,1)\n",
        "training_image , testing_image  = training_image /255.0, testing_image /255.0"
      ],
      "metadata": {
        "id": "GVZejYXoNG3r"
      },
      "execution_count": 4,
      "outputs": []
    },
    {
      "cell_type": "code",
      "source": [
        "model = tf.keras.Sequential([\n",
        "    tf.keras.layers.Flatten(),\n",
        "    tf.keras.layers.Dense(units = 128, activation = 'relu'),\n",
        "    tf.keras.layers.Dense(units =128),\n",
        "    tf.keras.layers.Dense(units = 64, activation = 'relu'),\n",
        "    tf.keras.layers.Dense(units = 10)\n",
        "])"
      ],
      "metadata": {
        "id": "XDInjKEnNxwY"
      },
      "execution_count": 5,
      "outputs": []
    },
    {
      "cell_type": "code",
      "source": [
        "model.compile(optimizer = 'Adam',\n",
        "              loss = tf.keras.losses.SparseCategoricalCrossentropy(from_logits = True),\n",
        "              metrics='accuracy')\n"
      ],
      "metadata": {
        "id": "z8s7HydZnRoP"
      },
      "execution_count": 6,
      "outputs": []
    },
    {
      "cell_type": "code",
      "source": [
        "history = model.fit(training_image, training_label, epochs = 10)"
      ],
      "metadata": {
        "id": "j1E-vuV_oH2u",
        "colab": {
          "base_uri": "https://localhost:8080/"
        },
        "outputId": "61e5452f-0ece-41af-d742-63e588ce60bc"
      },
      "execution_count": 7,
      "outputs": [
        {
          "output_type": "stream",
          "name": "stdout",
          "text": [
            "Epoch 1/10\n",
            "1875/1875 [==============================] - 8s 3ms/step - loss: 0.4877 - accuracy: 0.8232\n",
            "Epoch 2/10\n",
            "1875/1875 [==============================] - 6s 3ms/step - loss: 0.3709 - accuracy: 0.8635\n",
            "Epoch 3/10\n",
            "1875/1875 [==============================] - 6s 3ms/step - loss: 0.3379 - accuracy: 0.8748\n",
            "Epoch 4/10\n",
            "1875/1875 [==============================] - 5s 3ms/step - loss: 0.3177 - accuracy: 0.8823\n",
            "Epoch 5/10\n",
            "1875/1875 [==============================] - 6s 3ms/step - loss: 0.2995 - accuracy: 0.8882\n",
            "Epoch 6/10\n",
            "1875/1875 [==============================] - 6s 3ms/step - loss: 0.2859 - accuracy: 0.8935\n",
            "Epoch 7/10\n",
            "1875/1875 [==============================] - 6s 3ms/step - loss: 0.2741 - accuracy: 0.8975\n",
            "Epoch 8/10\n",
            "1875/1875 [==============================] - 6s 3ms/step - loss: 0.2660 - accuracy: 0.9002\n",
            "Epoch 9/10\n",
            "1875/1875 [==============================] - 6s 3ms/step - loss: 0.2562 - accuracy: 0.9039\n",
            "Epoch 10/10\n",
            "1875/1875 [==============================] - 6s 3ms/step - loss: 0.2493 - accuracy: 0.9064\n"
          ]
        }
      ]
    },
    {
      "cell_type": "code",
      "source": [
        "test_loss, test_acc = model.evaluate(testing_image, testing_label, verbose=2)\n",
        "test_acc"
      ],
      "metadata": {
        "id": "FRz252MyoQag",
        "colab": {
          "base_uri": "https://localhost:8080/"
        },
        "outputId": "f91d5732-d504-4133-c068-cee591d39fa0"
      },
      "execution_count": 8,
      "outputs": [
        {
          "output_type": "stream",
          "name": "stdout",
          "text": [
            "313/313 - 1s - loss: 0.3633 - accuracy: 0.8781 - 702ms/epoch - 2ms/step\n"
          ]
        },
        {
          "output_type": "execute_result",
          "data": {
            "text/plain": [
              "0.8780999779701233"
            ]
          },
          "metadata": {},
          "execution_count": 8
        }
      ]
    },
    {
      "cell_type": "code",
      "source": [],
      "metadata": {
        "id": "NvQU5IvjsxfZ"
      },
      "execution_count": 8,
      "outputs": []
    },
    {
      "cell_type": "code",
      "source": [
        "prediction_model = tf.keras.Sequential([\n",
        "    model,\n",
        "    tf.keras.layers.Softmax()\n",
        "])\n",
        "prediction = prediction_model.predict(testing_image)\n"
      ],
      "metadata": {
        "id": "AzlNDHI9o0Hg",
        "colab": {
          "base_uri": "https://localhost:8080/"
        },
        "outputId": "90e21de4-486f-4559-dcd7-da68f6789482"
      },
      "execution_count": 9,
      "outputs": [
        {
          "output_type": "stream",
          "name": "stdout",
          "text": [
            "313/313 [==============================] - 1s 2ms/step\n"
          ]
        }
      ]
    },
    {
      "cell_type": "code",
      "source": [
        "pred_label = np.argmax(prediction[9])\n",
        "pred_label\n",
        "\n"
      ],
      "metadata": {
        "id": "ZtarXP-_pB7p",
        "colab": {
          "base_uri": "https://localhost:8080/"
        },
        "outputId": "2e8995b3-e26d-4c9c-b13e-714e30313172"
      },
      "execution_count": 10,
      "outputs": [
        {
          "output_type": "execute_result",
          "data": {
            "text/plain": [
              "7"
            ]
          },
          "metadata": {},
          "execution_count": 10
        }
      ]
    },
    {
      "cell_type": "code",
      "source": [
        "testing_label[9]"
      ],
      "metadata": {
        "id": "wWkc6uGqvXo1",
        "colab": {
          "base_uri": "https://localhost:8080/"
        },
        "outputId": "a2406143-7f4a-4108-9fd7-e5e2352e93fc"
      },
      "execution_count": 11,
      "outputs": [
        {
          "output_type": "execute_result",
          "data": {
            "text/plain": [
              "7"
            ]
          },
          "metadata": {},
          "execution_count": 11
        }
      ]
    },
    {
      "cell_type": "markdown",
      "source": [
        "TO\"GRI NATIJA"
      ],
      "metadata": {
        "id": "jZkg0HAxtY2A"
      }
    },
    {
      "cell_type": "code",
      "source": [
        "class_names = ['T-shirt/top', 'Trouser', 'Pullover', 'Dress', 'Coat',\n",
        "               'Sandal', 'Shirt', 'Sneaker', 'Bag', 'Ankle boot']"
      ],
      "metadata": {
        "id": "sGNtbX5xwm1L"
      },
      "execution_count": 12,
      "outputs": []
    },
    {
      "cell_type": "code",
      "source": [
        "class_names[7]"
      ],
      "metadata": {
        "id": "DrNtkjz-wmS5",
        "colab": {
          "base_uri": "https://localhost:8080/",
          "height": 35
        },
        "outputId": "ff99f7cc-11ad-40cb-a676-3f478174a478"
      },
      "execution_count": 13,
      "outputs": [
        {
          "output_type": "execute_result",
          "data": {
            "text/plain": [
              "'Sneaker'"
            ],
            "application/vnd.google.colaboratory.intrinsic+json": {
              "type": "string"
            }
          },
          "metadata": {},
          "execution_count": 13
        }
      ]
    },
    {
      "cell_type": "code",
      "source": [
        "plt.imshow(testing_image[9])"
      ],
      "metadata": {
        "id": "TKULGC6Ftak9",
        "colab": {
          "base_uri": "https://localhost:8080/",
          "height": 448
        },
        "outputId": "08283911-af26-4d11-9ceb-1a69cafc4cb2"
      },
      "execution_count": 14,
      "outputs": [
        {
          "output_type": "execute_result",
          "data": {
            "text/plain": [
              "<matplotlib.image.AxesImage at 0x7b72343a1870>"
            ]
          },
          "metadata": {},
          "execution_count": 14
        },
        {
          "output_type": "display_data",
          "data": {
            "text/plain": [
              "<Figure size 640x480 with 1 Axes>"
            ],
            "image/png": "[encoded data removed]"
          },
          "metadata": {}
        }
      ]
    },
    {
      "cell_type": "code",
      "source": [
        "def plot_loss_curve(history):\n",
        "  acc = history.history[\"acc\"]"
      ],
      "metadata": {
        "id": "B29_P0UWgnrW"
      },
      "execution_count": 15,
      "outputs": []
    },
    {
      "cell_type": "code",
      "source": [
        "history.history.keys()"
      ],
      "metadata": {
        "colab": {
          "base_uri": "https://localhost:8080/"
        },
        "id": "rkQp1Q1xQ9Lb",
        "outputId": "3c914914-f52d-47b6-9f48-912c7c84ef53"
      },
      "execution_count": 16,
      "outputs": [
        {
          "output_type": "execute_result",
          "data": {
            "text/plain": [
              "dict_keys(['loss', 'accuracy'])"
            ]
          },
          "metadata": {},
          "execution_count": 16
        }
      ]
    },
    {
      "cell_type": "code",
      "source": [
        "import pandas as pd\n",
        "pd.DataFrame(history.history).plot(figsize= (10,7))"
      ],
      "metadata": {
        "id": "6lGKHyrRuUqi",
        "colab": {
          "base_uri": "https://localhost:8080/",
          "height": 617
        },
        "outputId": "483ae9b3-9f95-4904-838e-f75f935bac86"
      },
      "execution_count": 17,
      "outputs": [
        {
          "output_type": "execute_result",
          "data": {
            "text/plain": [
              "<Axes: >"
            ]
          },
          "metadata": {},
          "execution_count": 17
        },
        {
          "output_type": "display_data",
          "data": {
            "text/plain": [
              "<Figure size 1000x700 with 1 Axes>"
            ],
            "image/png": "[encoded data removed]"
          },
          "metadata": {}
        }
      ]
    },
    {
      "cell_type": "code",
      "source": [
        "from tensorflow.keras.models import Sequential\n",
        "from tensorflow.keras.layers import Flatten, Conv2D, MaxPooling2D, Activation, Dense\n",
        "from tensorflow.keras.optimizers import Adam"
      ],
      "metadata": {
        "id": "9jmxGJ0HKuuC"
      },
      "execution_count": 18,
      "outputs": []
    },
    {
      "cell_type": "code",
      "source": [
        "training_image.shape"
      ],
      "metadata": {
        "colab": {
          "base_uri": "https://localhost:8080/"
        },
        "id": "v0bkOPjvrfN1",
        "outputId": "01aba415-324e-45d6-895c-311f8c0816a2"
      },
      "execution_count": 19,
      "outputs": [
        {
          "output_type": "execute_result",
          "data": {
            "text/plain": [
              "(60000, 28, 28, 1)"
            ]
          },
          "metadata": {},
          "execution_count": 19
        }
      ]
    },
    {
      "cell_type": "code",
      "source": [
        "model_1 = Sequential([\n",
        "    Conv2D(filters=10,\n",
        "           input_shape=(28, 28, 1),\n",
        "           kernel_size=3,\n",
        "           strides=1,\n",
        "           padding='same',\n",
        "           activation='relu'),\n",
        "    MaxPooling2D(pool_size = 1),\n",
        "\n",
        "    Conv2D(10, 3, activation = 'relu'),\n",
        "    MaxPooling2D(2),\n",
        "\n",
        "    Conv2D(10, 3, activation = 'relu'),\n",
        "    MaxPooling2D(2),\n",
        "\n",
        "    Flatten(),\n",
        "    Dense(units = 128, activation = 'relu'),\n",
        "    Dense(units = 64, activation = 'relu'),\n",
        "    Dense(units = 10)\n",
        "])"
      ],
      "metadata": {
        "id": "FQDC9QQKhg-j"
      },
      "execution_count": 20,
      "outputs": []
    },
    {
      "cell_type": "code",
      "source": [
        "model_1.compile(optimizer = 'Adam',\n",
        "                metrics = 'accuracy',\n",
        "                loss = tf.keras.losses.SparseCategoricalCrossentropy(\n",
        "    from_logits=True))\n",
        "model_1.summary()"
      ],
      "metadata": {
        "id": "zvrFlIv1SC5J",
        "colab": {
          "base_uri": "https://localhost:8080/"
        },
        "outputId": "eba37a92-d068-4876-d575-dd28c57313df"
      },
      "execution_count": 23,
      "outputs": [
        {
          "output_type": "stream",
          "name": "stdout",
          "text": [
            "Model: \"sequential_2\"\n",
            "_________________________________________________________________\n",
            " Layer (type)                Output Shape              Param #   \n",
            "=================================================================\n",
            " conv2d (Conv2D)             (None, 28, 28, 10)        100       \n",
            "                                                                 \n",
            " max_pooling2d (MaxPooling2  (None, 28, 28, 10)        0         \n",
            " D)                                                              \n",
            "                                                                 \n",
            " conv2d_1 (Conv2D)           (None, 26, 26, 10)        910       \n",
            "                                                                 \n",
            " max_pooling2d_1 (MaxPoolin  (None, 13, 13, 10)        0         \n",
            " g2D)                                                            \n",
            "                                                                 \n",
            " conv2d_2 (Conv2D)           (None, 11, 11, 10)        910       \n",
            "                                                                 \n",
            " max_pooling2d_2 (MaxPoolin  (None, 5, 5, 10)          0         \n",
            " g2D)                                                            \n",
            "                                                                 \n",
            " flatten_1 (Flatten)         (None, 250)               0         \n",
            "                                                                 \n",
            " dense_4 (Dense)             (None, 128)               32128     \n",
            "                                                                 \n",
            " dense_5 (Dense)             (None, 64)                8256      \n",
            "                                                                 \n",
            " dense_6 (Dense)             (None, 10)                650       \n",
            "                                                                 \n",
            "=================================================================\n",
            "Total params: 42954 (167.79 KB)\n",
            "Trainable params: 42954 (167.79 KB)\n",
            "Non-trainable params: 0 (0.00 Byte)\n",
            "_________________________________________________________________\n"
          ]
        }
      ]
    },
    {
      "cell_type": "code",
      "source": [
        "history_1 = model_1.fit(x = training_image,\n",
        "            y = training_label,\n",
        "            epochs =10,\n",
        "            validation_data = (testing_image, testing_label)\n",
        "            )"
      ],
      "metadata": {
        "colab": {
          "base_uri": "https://localhost:8080/"
        },
        "id": "RsV-t_fevQNz",
        "outputId": "3a37ce8d-a904-4ca5-a1b6-7205fee90003"
      },
      "execution_count": 24,
      "outputs": [
        {
          "output_type": "stream",
          "name": "stdout",
          "text": [
            "Epoch 1/10\n",
            "1875/1875 [==============================] - 12s 5ms/step - loss: 0.5178 - accuracy: 0.8106 - val_loss: 0.3955 - val_accuracy: 0.8538\n",
            "Epoch 2/10\n",
            "1875/1875 [==============================] - 9s 5ms/step - loss: 0.3421 - accuracy: 0.8730 - val_loss: 0.3237 - val_accuracy: 0.8811\n",
            "Epoch 3/10\n",
            "1875/1875 [==============================] - 9s 5ms/step - loss: 0.2999 - accuracy: 0.8880 - val_loss: 0.3235 - val_accuracy: 0.8769\n",
            "Epoch 4/10\n",
            "1875/1875 [==============================] - 9s 5ms/step - loss: 0.2721 - accuracy: 0.8979 - val_loss: 0.2815 - val_accuracy: 0.8978\n",
            "Epoch 5/10\n",
            "1875/1875 [==============================] - 8s 4ms/step - loss: 0.2522 - accuracy: 0.9058 - val_loss: 0.2706 - val_accuracy: 0.8992\n",
            "Epoch 6/10\n",
            "1875/1875 [==============================] - 9s 5ms/step - loss: 0.2339 - accuracy: 0.9131 - val_loss: 0.2700 - val_accuracy: 0.8990\n",
            "Epoch 7/10\n",
            "1875/1875 [==============================] - 9s 5ms/step - loss: 0.2228 - accuracy: 0.9162 - val_loss: 0.2694 - val_accuracy: 0.9036\n",
            "Epoch 8/10\n",
            "1875/1875 [==============================] - 9s 5ms/step - loss: 0.2109 - accuracy: 0.9204 - val_loss: 0.2629 - val_accuracy: 0.9052\n",
            "Epoch 9/10\n",
            "1875/1875 [==============================] - 9s 5ms/step - loss: 0.1985 - accuracy: 0.9251 - val_loss: 0.2768 - val_accuracy: 0.9065\n",
            "Epoch 10/10\n",
            "1875/1875 [==============================] - 10s 5ms/step - loss: 0.1905 - accuracy: 0.9283 - val_loss: 0.2590 - val_accuracy: 0.9096\n"
          ]
        }
      ]
    },
    {
      "cell_type": "code",
      "source": [
        "test_loss, test_acc = model_1.evaluate(x = testing_image, y = testing_label)"
      ],
      "metadata": {
        "colab": {
          "base_uri": "https://localhost:8080/"
        },
        "id": "Kzo3apPuxXi-",
        "outputId": "e5e4217c-5125-4c8d-cf65-d642e51e5dc1"
      },
      "execution_count": 25,
      "outputs": [
        {
          "output_type": "stream",
          "name": "stdout",
          "text": [
            "313/313 [==============================] - 1s 3ms/step - loss: 0.2590 - accuracy: 0.9096\n"
          ]
        }
      ]
    },
    {
      "cell_type": "code",
      "source": [
        "pd.DataFrame(history_1.history).plot(figsize = (5,7))"
      ],
      "metadata": {
        "colab": {
          "base_uri": "https://localhost:8080/",
          "height": 617
        },
        "id": "D3NxwwWr1nmO",
        "outputId": "8056609d-f85e-4692-a494-f96f8ebb34ee"
      },
      "execution_count": 29,
      "outputs": [
        {
          "output_type": "execute_result",
          "data": {
            "text/plain": [
              "<Axes: >"
            ]
          },
          "metadata": {},
          "execution_count": 29
        },
        {
          "output_type": "display_data",
          "data": {
            "text/plain": [
              "<Figure size 500x700 with 1 Axes>"
            ],
            "image/png": "[encoded data removed]"
          },
          "metadata": {}
        }
      ]
    },
    {
      "cell_type": "code",
      "source": [
        "import tensorflow as tf\n",
        "import matplotlib.pyplot as plt\n",
        "\n",
        "def pred_prob(model, classes, test_img, true_img):\n",
        "    # Ensure the input image has the correct shape and type\n",
        "    test_img = tf.image.resize(test_img, (28, 28))  # Resize the image if needed\n",
        "    test_img = tf.expand_dims(test_img, axis=0)  # Add batch dimension\n",
        "    test_img = tf.cast(test_img, dtype=tf.float32)  # Ensure data type is float32\n",
        "\n",
        "    # Get model predictions\n",
        "    logit = model(test_img)\n",
        "    predictions = tf.nn.softmax(logit)\n",
        "    prediction_class = tf.argmax(predictions, axis=1).numpy()[0]\n",
        "    predicted_class_name = classes[prediction_class]\n",
        "\n",
        "    # Display the target image and prediction\n",
        "    plt.figure(figsize=(8, 4))\n",
        "\n",
        "    plt.subplot(1, 2, 1)\n",
        "    # Assuming grayscale image, adjust cmap if using RGB\n",
        "    plt.imshow(test_img[0].numpy().squeeze(), cmap='gray')\n",
        "    plt.title(\"Input Image\")\n",
        "    plt.axis('off')\n",
        "\n",
        "    plt.subplot(1, 2, 2)\n",
        "    # Assuming true_img is a scalar representing the class index\n",
        "    true_img_array = np.zeros((28, 28))\n",
        "    plt.imshow(true_img_array, cmap='gray')\n",
        "    plt.title(f\"True Class: {classes[int(true_img)]} \\n Predicted Class: {predicted_class_name}\")\n",
        "    plt.axis('off')\n",
        "\n",
        "    plt.show()\n",
        "\n",
        "# Example usage\n",
        "pred_prob(model_1, class_names, testing_image[0], testing_label[0])\n"
      ],
      "metadata": {
        "colab": {
          "base_uri": "https://localhost:8080/",
          "height": 361
        },
        "id": "Keyq_kEG1_37",
        "outputId": "890da69c-5bde-4243-8df0-82ca19ac5661"
      },
      "execution_count": 27,
      "outputs": [
        {
          "output_type": "display_data",
          "data": {
            "text/plain": [
              "<Figure size 800x400 with 2 Axes>"
            ],
            "image/png": "[encoded data removed]"
          },
          "metadata": {}
        }
      ]
    },
    {
      "cell_type": "code",
      "source": [],
      "metadata": {
        "id": "tRCD04QW9trJ"
      },
      "execution_count": 27,
      "outputs": []
    }
  ]
}