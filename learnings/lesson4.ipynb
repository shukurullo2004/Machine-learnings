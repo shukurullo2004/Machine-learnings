{
 "cells": [
  {
   "cell_type": "code",
   "execution_count": 5,
   "metadata": {},
   "outputs": [],
   "source": [
    "import numpy as np\n"
   ]
  },
  {
   "cell_type": "code",
   "execution_count": 6,
   "metadata": {},
   "outputs": [],
   "source": [
    "a = np.array([1,2,3,4,5,6,7,8,9,10])\n",
    "even = np.argwhere(a%2==0).flatten()"
   ]
  },
  {
   "cell_type": "code",
   "execution_count": 7,
   "metadata": {},
   "outputs": [
    {
     "name": "stdout",
     "output_type": "stream",
     "text": [
      "[ 2  4  6  8 10]\n"
     ]
    }
   ],
   "source": [
    "print(a[even])\n"
   ]
  },
  {
   "cell_type": "code",
   "execution_count": 8,
   "metadata": {},
   "outputs": [
    {
     "name": "stdout",
     "output_type": "stream",
     "text": [
      "(6,)\n"
     ]
    }
   ],
   "source": [
    "b = np.arange(1,7)\n",
    "print(b.shape)\n"
   ]
  },
  {
   "cell_type": "code",
   "execution_count": 9,
   "metadata": {},
   "outputs": [
    {
     "name": "stdout",
     "output_type": "stream",
     "text": [
      "[[1 2 3]\n",
      " [4 5 6]]\n"
     ]
    }
   ],
   "source": [
    "c = b.reshape(2,3)\n",
    "print(c)"
   ]
  },
  {
   "cell_type": "code",
   "execution_count": 10,
   "metadata": {},
   "outputs": [
    {
     "name": "stdout",
     "output_type": "stream",
     "text": [
      "[[1 2 3 4]\n",
      " [5 6 7 8]\n",
      " [2 0 0 4]\n",
      " [0 0 0 0]]\n"
     ]
    }
   ],
   "source": [
    "a1 = np.array([[1,2,3,4],[5,6,7,8]])\n",
    "b1 = np.array([[2,0,0,4], [0,0,0,0]])\n",
    "c1 = np.concatenate((a1, b1))\n",
    "print(c1)"
   ]
  },
  {
   "cell_type": "code",
   "execution_count": 11,
   "metadata": {},
   "outputs": [
    {
     "name": "stdout",
     "output_type": "stream",
     "text": [
      "[[1 2 3 4]\n",
      " [5 6 7 8]\n",
      " [2 0 0 4]\n",
      " [0 0 0 0]]\n"
     ]
    }
   ],
   "source": [
    "c1 = np.concatenate((a1,b1), axis= 0)\n",
    "print(c1)"
   ]
  },
  {
   "cell_type": "code",
   "execution_count": 12,
   "metadata": {},
   "outputs": [
    {
     "name": "stdout",
     "output_type": "stream",
     "text": [
      "[[1 2]\n",
      " [3 4]\n",
      " [5 6]\n",
      " [7 8]]\n",
      "[[1 2 5 6]\n",
      " [3 4 7 8]]\n"
     ]
    }
   ],
   "source": [
    "import numpy as np\n",
    "\n",
    "a1 = np.array([[1, 2], [3, 4]])\n",
    "b1 = np.array([[5, 6], [7, 8]])\n",
    "\n",
    "# Concatenate along axis 0 (vertical concatenation)\n",
    "c1 = np.concatenate((a1, b1), axis=0)\n",
    "print(c1)\n",
    "# Output:\n",
    "# [[1 2]\n",
    "#  [3 4]\n",
    "#  [5 6]\n",
    "#  [7 8]]\n",
    "\n",
    "# Concatenate along axis 1 (horizontal concatenation)\n",
    "c2 = np.concatenate((a1, b1), axis=1)\n",
    "print(c2)\n",
    "# Output:\n",
    "# [[1 2 5 6]\n",
    "#  [3 4 7 8]]\n"
   ]
  },
  {
   "cell_type": "code",
   "execution_count": 13,
   "metadata": {},
   "outputs": [
    {
     "name": "stdout",
     "output_type": "stream",
     "text": [
      "[ 1  2  3  4  5  6  7  8  9 10  1  2  3  4  5  6]\n"
     ]
    }
   ],
   "source": [
    "c2 = np.hstack((a, b))\n",
    "print(c2)"
   ]
  },
  {
   "cell_type": "code",
   "execution_count": 14,
   "metadata": {},
   "outputs": [
    {
     "name": "stdout",
     "output_type": "stream",
     "text": [
      "[[1 2]\n",
      " [3 4]\n",
      " [5 6]\n",
      " [7 8]]\n"
     ]
    }
   ],
   "source": [
    "c = np.vstack((a1, b1))\n",
    "print(c)"
   ]
  },
  {
   "cell_type": "code",
   "execution_count": 15,
   "metadata": {},
   "outputs": [
    {
     "name": "stdout",
     "output_type": "stream",
     "text": [
      "[[1 2 3 4 5 6 7 8 9]\n",
      " [1 2 3 4 5 6 7 8 9]]\n",
      "[ 2  4  6  8 10 12 14 16 18]\n",
      "mean:  5.0\n",
      "var:  6.666666666666667\n",
      "std:  2.581988897471611\n",
      "min:  1\n",
      "max:  9\n"
     ]
    }
   ],
   "source": [
    "k = np.array([[1,2,3,4,5,6,7,8,9],[1,2,3,4,5,6,7,8,9]])\n",
    "print(k)\n",
    "print(k.sum(axis=0))\n",
    "print(f\"mean:  {k.mean()}\")\n",
    "print(f\"var:  {k.var()}\")\n",
    "print(f\"std:  {k.std()}\")\n",
    "print(f\"min:  {k.min()}\")\n",
    "print(f\"max:  {k.max()}\")"
   ]
  },
  {
   "cell_type": "code",
   "execution_count": 16,
   "metadata": {},
   "outputs": [
    {
     "name": "stdout",
     "output_type": "stream",
     "text": [
      "[[1. 0. 0. 0.]\n",
      " [0. 1. 0. 0.]\n",
      " [0. 0. 1. 0.]\n",
      " [0. 0. 0. 1.]]\n"
     ]
    }
   ],
   "source": [
    "l = np.eye(4)\n",
    "print(l)"
   ]
  },
  {
   "cell_type": "code",
   "execution_count": 17,
   "metadata": {},
   "outputs": [
    {
     "name": "stdout",
     "output_type": "stream",
     "text": [
      "[[0. 0. 0. 0. 0. 0.]\n",
      " [0. 0. 0. 0. 0. 0.]\n",
      " [0. 0. 0. 0. 0. 0.]\n",
      " [0. 0. 0. 0. 0. 0.]]\n"
     ]
    }
   ],
   "source": [
    "l1 = np.zeros((4,6))\n",
    "print(l1)"
   ]
  },
  {
   "cell_type": "code",
   "execution_count": 18,
   "metadata": {},
   "outputs": [
    {
     "name": "stdout",
     "output_type": "stream",
     "text": [
      "[[8 8 8 8]\n",
      " [8 8 8 8]\n",
      " [8 8 8 8]]\n"
     ]
    }
   ],
   "source": [
    "l2 = np.full((3,4), 8)\n",
    "print(l2)"
   ]
  },
  {
   "cell_type": "code",
   "execution_count": null,
   "metadata": {},
   "outputs": [],
   "source": []
  },
  {
   "attachments": {},
   "cell_type": "markdown",
   "metadata": {},
   "source": [
    "i need know eigen vector"
   ]
  }
 ],
 "metadata": {
  "kernelspec": {
   "display_name": "Python 3",
   "language": "python",
   "name": "python3"
  },
  "language_info": {
   "codemirror_mode": {
    "name": "ipython",
    "version": 3
   },
   "file_extension": ".py",
   "mimetype": "text/x-python",
   "name": "python",
   "nbconvert_exporter": "python",
   "pygments_lexer": "ipython3",
   "version": "3.10.8"
  },
  "orig_nbformat": 4
 },
 "nbformat": 4,
 "nbformat_minor": 2
}
