df = pd.read_csv('/Users/shukurullomeliboyev2004/Desktop/pandas-master/pokemon_data.csv')
print(df)