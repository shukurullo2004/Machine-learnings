{
  "nbformat": 4,
  "nbformat_minor": 0,
  "metadata": {
    "colab": {
      "private_outputs": true,
      "provenance": [],
      "gpuType": "T4",
      "toc_visible": true,
      "include_colab_link": true
    },
    "kernelspec": {
      "name": "python3",
      "display_name": "Python 3"
    },
    "language_info": {
      "name": "python"
    },
    "accelerator": "GPU"
  },
  "cells": [
    {
      "cell_type": "markdown",
      "metadata": {
        "id": "view-in-github",
        "colab_type": "text"
      },
      "source": [
        "<a href=\"https://colab.research.google.com/github/shukurullo2004/Machine-learnings/blob/main/mnist.ipynb\" target=\"_parent\"><img src=\"https://colab.research.google.com/assets/colab-badge.svg\" alt=\"Open In Colab\"/></a>"
      ]
    },
    {
      "cell_type": "code",
      "execution_count": null,
      "metadata": {
        "id": "pDfxisrXi-XJ"
      },
      "outputs": [],
      "source": [
        "import torch\n",
        "from torchvision import datasets, transforms\n",
        "from torch.utils.data import DataLoader\n",
        "\n",
        "transform = transforms.Compose([transforms.ToTensor(),\n",
        "                                transforms.Normalize((0.5,), (0.5,))])\n",
        "\n",
        "train_dataset = datasets.MNIST(root='./data', train=True, download=True, transform=transform)\n",
        "test_dataset = datasets.MNIST(root='./data', train=False, download=True, transform=transform)\n",
        "\n",
        "train_loader = DataLoader(dataset=train_dataset, batch_size=64, shuffle=True)\n",
        "test_loader = DataLoader(dataset=test_dataset, batch_size=64, shuffle=False)"
      ]
    },
    {
      "cell_type": "code",
      "source": [
        "device = \"cuda\" if torch.cuda.is_available() else \"cpu\"\n",
        "print(f\"Using device: {device}\")"
      ],
      "metadata": {
        "id": "eLmRiwuXi1Y-"
      },
      "execution_count": null,
      "outputs": []
    },
    {
      "cell_type": "code",
      "source": [
        "print(\"Training dataset size:\", len(train_dataset))\n",
        "print(\"Testing dataset size:\", len(test_dataset))\n",
        "\n",
        "for batch in train_loader:\n",
        "    inputs, labels = batch\n",
        "    print(\"Training input shape:\", inputs.shape)\n",
        "    print(\"Training labels shape:\", labels.shape)\n",
        "    break\n",
        "\n",
        "for batch in test_loader:\n",
        "    inputs, labels = batch\n",
        "    print(\"Testing input shape:\", inputs.shape)\n",
        "    print(\"Testing labels shape:\", labels.shape)\n",
        "    break"
      ],
      "metadata": {
        "id": "oaIVD2NCwAcQ"
      },
      "execution_count": null,
      "outputs": []
    },
    {
      "cell_type": "code",
      "source": [
        "from torch import nn\n",
        "import torch.nn.init as init\n",
        "\n",
        "class ModelV2(nn.Module):\n",
        "    def __init__(self):\n",
        "        super(ModelV2, self).__init__()\n",
        "        self.flatten = nn.Flatten()\n",
        "        self.fc1 = nn.Linear(28 * 28, 128)\n",
        "        self.bn1 = nn.BatchNorm1d(128)\n",
        "        self.fc2 = nn.Linear(128, 64)\n",
        "        self.bn2 = nn.BatchNorm1d(64)\n",
        "        self.relu2 = nn.ReLU()\n",
        "        self.fc3 = nn.Linear(64, 10)\n",
        "\n",
        "\n",
        "        init.xavier_uniform_(self.fc1.weight)\n",
        "        init.xavier_uniform_(self.fc2.weight)\n",
        "        init.xavier_uniform_(self.fc3.weight)\n",
        "\n",
        "    def forward(self, x):\n",
        "        x = self.flatten(x)\n",
        "        x = self.fc1(x)\n",
        "        x = self.bn1(x)\n",
        "        x = self.fc2(x)\n",
        "        x = self.bn2(x)\n",
        "        x = self.relu2(x)\n",
        "        x = self.fc3(x)\n",
        "        return x\n",
        "\n",
        "mymodel = ModelV2()\n",
        "mymodel"
      ],
      "metadata": {
        "id": "N1g76Yy7wAhd"
      },
      "execution_count": null,
      "outputs": []
    },
    {
      "cell_type": "code",
      "source": [
        "import torch\n",
        "\n",
        "def accuracy_fn(y_true, y_pred):\n",
        "    predicted_classes = torch.argmax(y_pred, dim=1)\n",
        "    correct = torch.eq(y_true, predicted_classes).sum().item()\n",
        "    acc = (correct / len(y_true)) * 100\n",
        "    return acc"
      ],
      "metadata": {
        "id": "WLC-mzYkAgAc"
      },
      "execution_count": null,
      "outputs": []
    },
    {
      "cell_type": "code",
      "source": [
        "loss_fn = nn.CrossEntropyLoss()\n",
        "optimizer = torch.optim.Adam(mymodel.parameters(), lr = 0.0001)\n"
      ],
      "metadata": {
        "id": "xWK3XBPbwAj0"
      },
      "execution_count": null,
      "outputs": []
    },
    {
      "cell_type": "code",
      "source": [
        "for X_train, y_train in train_loader:\n",
        "  X_train[:1],y_train[:1]"
      ],
      "metadata": {
        "id": "S4Z31JECCXMr"
      },
      "execution_count": null,
      "outputs": []
    },
    {
      "cell_type": "code",
      "source": [
        "epoch_count = []\n",
        "loss_values = []\n",
        "test_loss_values = []\n",
        "epochs = 9\n",
        "for epoch in range(epochs):\n",
        "  mymodel.train()\n",
        "  for inputs, labels in train_loader:\n",
        "        optimizer.zero_grad()\n",
        "        outputs = mymodel(inputs)\n",
        "        loss = loss_fn(outputs, labels)\n",
        "        loss.backward()\n",
        "        optimizer.step()\n",
        "\n",
        "  # y_pred = mymodel(X_train).squeeze()\n",
        "\n",
        "  # acc = accuracy_fn(y_train, y_pred)\n",
        "  # loss = loss_fn(y_pred, y_train)\n",
        "  # optimizer.zero_grad()\n",
        "  # loss.backward()\n",
        "  # optimizer.step()\n",
        "\n",
        "\n",
        "  mymodel.eval()\n",
        "  with torch.inference_mode():\n",
        "    for X_test, y_test in test_loader:\n",
        "      y_test_pred = mymodel(X_test)\n",
        "      test_loss = loss_fn(y_test_pred, y_test)\n",
        "      test_acc = accuracy_fn(y_test, y_test_pred)\n",
        "\n",
        "  if epoch % 1 == 0:\n",
        "            epoch_count.append(epoch)\n",
        "            loss_values.append(loss)\n",
        "            test_loss_values.append(test_loss)\n",
        "            print(f\"Epoch: {epoch} | Train Loss: {loss} | Test Loss: {test_loss} | Test acc: {test_acc}| Train acc: {acc}\")"
      ],
      "metadata": {
        "id": "7YQurXmbwApy"
      },
      "execution_count": null,
      "outputs": []
    },
    {
      "cell_type": "code",
      "source": [
        "import numpy as np\n",
        "import matplotlib.pyplot as plt\n",
        "plt.plot(epoch_count,np.array(torch.tensor(loss_values)),label = \"Train loss\")\n",
        "plt.plot(epoch_count,test_loss_values,label = \"Test loss\")"
      ],
      "metadata": {
        "id": "SnLZTuJFmI8c"
      },
      "execution_count": null,
      "outputs": []
    },
    {
      "cell_type": "code",
      "source": [
        "y_train[:5], y_test[:5]"
      ],
      "metadata": {
        "id": "g_1UwzOonrVA"
      },
      "execution_count": null,
      "outputs": []
    },
    {
      "cell_type": "code",
      "source": [
        "y_pred[:1]"
      ],
      "metadata": {
        "id": "u4rPNSAHswp0"
      },
      "execution_count": null,
      "outputs": []
    },
    {
      "cell_type": "code",
      "source": [
        "outputs = mymodel(inputs)\n",
        "\n",
        "_, predicted = torch.max(outputs, 1)\n",
        "\n",
        "\n",
        "predicted = predicted.view(-1)\n",
        "\n",
        "\n",
        "correct_predictions = torch.eq(predicted, labels)\n",
        "\n",
        "print(\"Correct Predictions:\", correct_predictions)"
      ],
      "metadata": {
        "id": "A-fFJiGN2sxA"
      },
      "execution_count": null,
      "outputs": []
    },
    {
      "cell_type": "code",
      "source": [
        "true_labels = []\n",
        "predicted_labels = []\n",
        "images = []\n",
        "\n",
        "outputs = mymodel(inputs)\n",
        "\n",
        "\n",
        "_, predicted = torch.max(outputs, 1)\n",
        "\n",
        "\n",
        "true_labels.extend(labels.cpu().numpy())\n",
        "predicted_labels.extend(predicted.cpu().numpy())\n",
        "\n",
        "\n",
        "images.extend(inputs[:5])\n",
        "\n",
        "\n",
        "true_labels = np.array(true_labels)\n",
        "predicted_labels = np.array(predicted_labels)\n",
        "\n",
        "\n",
        "plt.figure(figsize=(12, 4))\n",
        "\n",
        "\n",
        "plt.subplot(1, 2, 1)\n",
        "plt.scatter(range(len(true_labels)), true_labels, label='True Labels', color='blue', alpha=0.5)\n",
        "plt.title('True Labels')\n",
        "plt.xlabel('Sample Index')\n",
        "plt.ylabel('Label')\n",
        "plt.legend()\n",
        "\n",
        "plt.subplot(1, 2, 2)\n",
        "plt.scatter(range(len(predicted_labels)), predicted_labels, label='Predicted Labels', color='red', alpha=0.5)\n",
        "plt.title('Predicted Labels')\n",
        "plt.xlabel('Sample Index')\n",
        "plt.ylabel('Label')\n",
        "plt.legend()\n",
        "\n",
        "\n",
        "plt.tight_layout()\n",
        "plt.show()\n"
      ],
      "metadata": {
        "id": "KcTPoZ6V3Zr8"
      },
      "execution_count": null,
      "outputs": []
    },
    {
      "cell_type": "code",
      "source": [
        "plt.subplot(1, 3, 3)\n",
        "for i in range(5):\n",
        "    plt.subplot(1, 5, i+1)\n",
        "    plt.imshow(images[i][0], cmap='gray')\n",
        "    plt.title(f'True: {true_labels[i]}, Pred: {predicted_labels[i]}')\n",
        "    plt.axis('off')\n",
        "\n",
        "plt.tight_layout()\n",
        "plt.show()\n"
      ],
      "metadata": {
        "id": "oLJGh1-T6PBE"
      },
      "execution_count": null,
      "outputs": []
    },
    {
      "cell_type": "code",
      "source": [
        "from pathlib import Path\n",
        "MODEL_PATH = Path(\"models\")\n",
        "MODEL_PATH.mkdir(parents =True, exist_ok = True)\n",
        "\n",
        "MODEL_NAME = \"Shukurullos 1 saved model.pth\"\n",
        "MODEL_SAVE_PATH = MODEL_PATH/MODEL_NAME\n",
        "\n",
        "torch.save(obj = mymodel.state_dict,f =MODEL_SAVE_PATH)"
      ],
      "metadata": {
        "id": "1i5iWbOq69H0"
      },
      "execution_count": null,
      "outputs": []
    },
    {
      "cell_type": "code",
      "source": [],
      "metadata": {
        "id": "SCDde6wq9NNB"
      },
      "execution_count": null,
      "outputs": []
    }
  ]
}