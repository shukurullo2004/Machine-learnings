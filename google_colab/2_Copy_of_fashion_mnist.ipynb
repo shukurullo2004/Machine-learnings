{
  "nbformat": 4,
  "nbformat_minor": 0,
  "metadata": {
    "colab": {
      "private_outputs": true,
      "provenance": [],
      "gpuType": "T4",
      "include_colab_link": true
    },
    "kernelspec": {
      "name": "python3",
      "display_name": "Python 3"
    },
    "language_info": {
      "name": "python"
    },
    "accelerator": "GPU"
  },
  "cells": [
    {
      "cell_type": "markdown",
      "metadata": {
        "id": "view-in-github",
        "colab_type": "text"
      },
      "source": [
        "<a href=\"https://colab.research.google.com/github/shukurullo2004/Machine-learnings/blob/main/2_Copy_of_fashion_mnist.ipynb\" target=\"_parent\"><img src=\"https://colab.research.google.com/assets/colab-badge.svg\" alt=\"Open In Colab\"/></a>"
      ]
    },
    {
      "cell_type": "code",
      "execution_count": null,
      "metadata": {
        "id": "eh6d91shs7qR"
      },
      "outputs": [],
      "source": [
        "import torch\n",
        "from torch import nn\n",
        "import torchvision\n",
        "from torchvision import datasets, transforms\n",
        "from torchvision.transforms import ToTensor\n",
        "\n",
        "import matplotlib.pyplot as plt\n",
        "import numpy as np\n"
      ]
    },
    {
      "cell_type": "code",
      "source": [
        "train_data = datasets.FashionMNIST(\n",
        "    root = 'data',\n",
        "    train = True,\n",
        "    transform = ToTensor(),\n",
        "    download = True,\n",
        "    target_transform = None\n",
        ")\n",
        "\n",
        "test_data = datasets.FashionMNIST(\n",
        "    root = \"data\",\n",
        "    train = False,\n",
        "    transform = ToTensor(),\n",
        "    download = True,\n",
        "    target_transform=None\n",
        ")\n"
      ],
      "metadata": {
        "id": "Z8czRwqsvbYW"
      },
      "execution_count": null,
      "outputs": []
    },
    {
      "cell_type": "code",
      "source": [
        "len(train_data), len(test_data)"
      ],
      "metadata": {
        "id": "98EjH9Y38EFY"
      },
      "execution_count": null,
      "outputs": []
    },
    {
      "cell_type": "code",
      "source": [
        "image, label = train_data[0]"
      ],
      "metadata": {
        "id": "Xpar2s8O9IjI"
      },
      "execution_count": null,
      "outputs": []
    },
    {
      "cell_type": "code",
      "source": [
        "classname = train_data.class_to_idx\n",
        "classname"
      ],
      "metadata": {
        "id": "PeqNsf4O-Bqy"
      },
      "execution_count": null,
      "outputs": []
    },
    {
      "cell_type": "code",
      "source": [
        "classname = train_data.classes\n",
        "classname"
      ],
      "metadata": {
        "id": "aMhjL-XyPoKq"
      },
      "execution_count": null,
      "outputs": []
    },
    {
      "cell_type": "code",
      "source": [
        "classname[label]"
      ],
      "metadata": {
        "id": "PmFAXH4G-5R7"
      },
      "execution_count": null,
      "outputs": []
    },
    {
      "cell_type": "code",
      "source": [],
      "metadata": {
        "id": "sq953zHkPF_f"
      },
      "execution_count": null,
      "outputs": []
    },
    {
      "cell_type": "code",
      "source": [
        "print(f\"image shape: {image.shape}\")\n",
        "plt.imshow(image.squeeze())\n",
        "plt.xlabel('weight')\n",
        "plt.ylabel('height')\n",
        "plt.title(label)"
      ],
      "metadata": {
        "id": "NMeOg2edNV-6"
      },
      "execution_count": null,
      "outputs": []
    },
    {
      "cell_type": "code",
      "source": [
        "plt.imshow(image.squeeze(), cmap = 'gray')\n",
        "plt.title(classname[label])\n",
        "plt.axis(False)"
      ],
      "metadata": {
        "id": "BaE8OqdqOfVU"
      },
      "execution_count": null,
      "outputs": []
    },
    {
      "cell_type": "code",
      "source": [
        "# NOT WORKING THIS LINE ->torch.manual_seed(42)\n",
        "row, col = 4,4\n",
        "fig = plt.figure(figsize = (9,9))\n",
        "\n",
        "for i in range(1,row*col+1):\n",
        "  plt.title(classname[label])\n",
        "  random_idx = torch.randint(0, len(train_data), size = [1]).item()\n",
        "  img, label = train_data[random_idx]\n",
        "  fig.add_subplot(row, col,i)\n",
        "  plt.axis(False)\n",
        "  plt.imshow(img.squeeze(), cmap = 'gray')\n"
      ],
      "metadata": {
        "id": "Tow9MBshLwV9"
      },
      "execution_count": null,
      "outputs": []
    },
    {
      "cell_type": "code",
      "source": [
        "from torch.utils.data import DataLoader\n",
        "train_data_loader = DataLoader(dataset=train_data,\n",
        "                               batch_size = 32,\n",
        "                               shuffle = True)\n",
        "test_data_loader = DataLoader(dataset=test_data,\n",
        "                              batch_size= 32,\n",
        "                              shuffle = False)\n",
        "len(train_data_loader), len(test_data_loader)"
      ],
      "metadata": {
        "id": "ZlbjnCSUNG7l"
      },
      "execution_count": null,
      "outputs": []
    },
    {
      "cell_type": "code",
      "source": [],
      "metadata": {
        "id": "bCFvHU6q3rWi"
      },
      "execution_count": null,
      "outputs": []
    },
    {
      "cell_type": "code",
      "source": [
        "train_data,test_data"
      ],
      "metadata": {
        "id": "_ev8qFVibXx8"
      },
      "execution_count": null,
      "outputs": []
    },
    {
      "cell_type": "code",
      "source": [
        "from torch import nn\n",
        "\n",
        "class FashionModule(nn.Module):\n",
        "  def __init__ (self,\n",
        "               in_shape : int,\n",
        "               hidden_shape1: int,\n",
        "               hidden_shape2: int,\n",
        "               output_shape : int):\n",
        "\n",
        "    super().__init__()\n",
        "    self.layer_stack = nn.Sequential(\n",
        "        nn.Flatten(),\n",
        "        nn.Linear(in_features=in_shape, out_features=hidden_shape1),\n",
        "        nn.ReLU(),\n",
        "        nn.Linear(hidden_shape1,hidden_shape2),\n",
        "        nn.ReLU(),\n",
        "        nn.Linear(hidden_shape2,hidden_shape2),\n",
        "        nn.ReLU(),\n",
        "        nn.Linear(hidden_shape2,output_shape),\n",
        "    )\n",
        "\n",
        "  def forward(self, x):\n",
        "      return self.layer_stack(x)\n"
      ],
      "metadata": {
        "id": "T0KqN5KpdEPB"
      },
      "execution_count": null,
      "outputs": []
    },
    {
      "cell_type": "code",
      "source": [
        "model_0 = FashionModule(in_shape=28*28,\n",
        "                        hidden_shape1=256,\n",
        "                        hidden_shape2 = 64,\n",
        "                        output_shape= 10)\n",
        "model_0"
      ],
      "metadata": {
        "id": "DrZNwi3-hC7F"
      },
      "execution_count": null,
      "outputs": []
    },
    {
      "cell_type": "code",
      "source": [
        "loss_fn = nn.CrossEntropyLoss()\n",
        "optimizer = torch.optim.SGD(params=model_0.parameters(),lr=0.001)\n",
        "\n",
        "import sklearn.metrics\n",
        "from sklearn.metrics import accuracy_score\n",
        "import numpy as np"
      ],
      "metadata": {
        "id": "Ik8TrpEKhyU7"
      },
      "execution_count": null,
      "outputs": []
    },
    {
      "cell_type": "code",
      "source": [
        "train_data_loader.dataset"
      ],
      "metadata": {
        "id": "2QNSx6O-1ZHU"
      },
      "execution_count": null,
      "outputs": []
    },
    {
      "cell_type": "code",
      "source": [
        "import torch\n",
        "\n",
        "def accuracy_fn(y_true, y_pred):\n",
        "    _, predicted_classes = y_pred.max(dim=1)\n",
        "    correct = (y_true == predicted_classes).sum().item()\n",
        "    acc = (correct / len(y_true)) * 100\n",
        "    return acc\n"
      ],
      "metadata": {
        "id": "C6FVHWw19aIU"
      },
      "execution_count": null,
      "outputs": []
    },
    {
      "cell_type": "code",
      "source": [
        "from tqdm.auto import tqdm\n",
        "epochs = 3\n",
        "train_loss = []\n",
        "train_acc = []\n",
        "test_loss = []\n",
        "test_acc = []\n",
        "\n",
        "for epoch in tqdm(range(epochs)):\n",
        "    print(f\"epoch: {epoch}\")\n",
        "    for batch, (X,y) in enumerate(train_data_loader):\n",
        "      model_0.train()\n",
        "      y_pred = model_0(X)\n",
        "      loss = loss_fn(y_pred, y)\n",
        "      acc = accuracy_fn(y, y_pred)\n",
        "      train_acc.append(acc)\n",
        "      train_loss.append(loss)\n",
        "      optimizer.zero_grad()\n",
        "      loss.backward()\n",
        "      optimizer.step()\n",
        "\n",
        "    model_0.eval()\n",
        "    with torch.inference_mode():\n",
        "      for X_test, y_test in test_data_loader:\n",
        "          test_pred = model_0(X_test)\n",
        "          testloss = loss_fn(test_pred, y_test)\n",
        "          testacc = accuracy_fn(y_test, test_pred)\n",
        "          test_acc.append(testacc)\n",
        "          test_loss.append(testloss)\n",
        "    if batch % 1200 == 0:\n",
        "        print(f\"Number of samples {batch*len(X)}/{len(train_data_loader.dataset)}\")\n",
        "    print(f\"Train_loss: {loss}| Test_loss: {testloss}|  Test_acc:{testacc}|Train_acc:{acc}\")"
      ],
      "metadata": {
        "id": "26IWEGTfjzMD"
      },
      "execution_count": null,
      "outputs": []
    },
    {
      "cell_type": "code",
      "source": [
        "def eval_model(\n",
        "    model: torch.nn.Module,\n",
        "    data_loader: torch.utils.data.DataLoader,\n",
        "    loss_fn: nn.Module,\n",
        "    accuracy_fn):\n",
        "  loss, acc = 0,0\n",
        "  model_0.eval()\n",
        "  with torch.inference_mode():\n",
        "    for X, y in tqdm(data_loader):\n",
        "      y_pred = model_0(X)\n",
        "      loss += loss_fn(y_pred, y)\n",
        "      acc += accuracy_fn(y, y_pred)\n",
        "\n",
        "    loss /= len(data_loader)\n",
        "    acc /= len(data_loader)\n",
        "\n",
        "  return {'model_name': model.__class__.__name__,\n",
        "          'model_loss': loss.item(),\n",
        "          'model_acc' : acc}\n",
        "\n",
        "model_0_results = eval_model(model = model_0,\n",
        "                             data_loader=test_data_loader,\n",
        "                             loss_fn = loss_fn,\n",
        "                             accuracy_fn= accuracy_fn)\n",
        "model_0_results"
      ],
      "metadata": {
        "id": "iSFL14F_lr8k"
      },
      "execution_count": null,
      "outputs": []
    },
    {
      "cell_type": "code",
      "source": [],
      "metadata": {
        "id": "KQXEOwGwKeXE"
      },
      "execution_count": null,
      "outputs": []
    },
    {
      "cell_type": "code",
      "source": [],
      "metadata": {
        "id": "0IORVsOArsBB"
      },
      "execution_count": null,
      "outputs": []
    }
  ]
}