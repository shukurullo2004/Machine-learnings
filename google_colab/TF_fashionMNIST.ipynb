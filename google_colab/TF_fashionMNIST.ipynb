{
  "nbformat": 4,
  "nbformat_minor": 0,
  "metadata": {
    "colab": {
      "private_outputs": true,
      "provenance": [],
      "authorship_tag": "ABX9TyM0AcYxBJeuxFu55tY8nfRF",
      "include_colab_link": true
    },
    "kernelspec": {
      "name": "python3",
      "display_name": "Python 3"
    },
    "language_info": {
      "name": "python"
    }
  },
  "cells": [
    {
      "cell_type": "markdown",
      "metadata": {
        "id": "view-in-github",
        "colab_type": "text"
      },
      "source": [
        "<a href=\"https://colab.research.google.com/github/shukurullo2004/Machine-learnings/blob/main/TF_fashionMNIST.ipynb\" target=\"_parent\"><img src=\"https://colab.research.google.com/assets/colab-badge.svg\" alt=\"Open In Colab\"/></a>"
      ]
    },
    {
      "cell_type": "code",
      "execution_count": null,
      "metadata": {
        "id": "v5dJSZo3GSSP"
      },
      "outputs": [],
      "source": [
        "import tensorflow as tf\n",
        "import matplotlib.pyplot as plt\n",
        "import numpy as np\n",
        "from tensorflow.keras import datasets,models,layers"
      ]
    },
    {
      "cell_type": "code",
      "source": [
        "(training_image, training_label), (testing_image, testing_label) = datasets.fashion_mnist.load_data()"
      ],
      "metadata": {
        "id": "trQgpBj8Gcry"
      },
      "execution_count": null,
      "outputs": []
    },
    {
      "cell_type": "code",
      "source": [
        "plt.imshow(training_image[1])"
      ],
      "metadata": {
        "id": "STJ6bybpl7-Y"
      },
      "execution_count": null,
      "outputs": []
    },
    {
      "cell_type": "code",
      "source": [
        "training_image = training_image.reshape(60000, 28, 28, 1)\n",
        "testing_image = testing_image.reshape(10000,28,28,1)\n",
        "training_image , testing_image  = training_image /255.0, testing_image /255.0"
      ],
      "metadata": {
        "id": "GVZejYXoNG3r"
      },
      "execution_count": null,
      "outputs": []
    },
    {
      "cell_type": "code",
      "source": [
        "model = tf.keras.Sequential([\n",
        "    tf.keras.layers.Flatten(),\n",
        "    tf.keras.layers.Dense(units = 128, activation = 'relu'),\n",
        "    tf.keras.layers.Dense(units = 10)\n",
        "])"
      ],
      "metadata": {
        "id": "XDInjKEnNxwY"
      },
      "execution_count": null,
      "outputs": []
    },
    {
      "cell_type": "code",
      "source": [
        "model.compile(optimizer = 'Adam',\n",
        "              loss = tf.keras.losses.SparseCategoricalCrossentropy(from_logits = True),\n",
        "              metrics='accuracy')\n"
      ],
      "metadata": {
        "id": "z8s7HydZnRoP"
      },
      "execution_count": null,
      "outputs": []
    },
    {
      "cell_type": "code",
      "source": [
        "model.fit(training_image, training_label, epochs = 150)"
      ],
      "metadata": {
        "id": "j1E-vuV_oH2u"
      },
      "execution_count": null,
      "outputs": []
    },
    {
      "cell_type": "code",
      "source": [
        "test_loss, test_acc = model.evaluate(testing_image, testing_label, verbose=2)\n",
        "test_acc"
      ],
      "metadata": {
        "id": "FRz252MyoQag"
      },
      "execution_count": null,
      "outputs": []
    },
    {
      "cell_type": "code",
      "source": [],
      "metadata": {
        "id": "NvQU5IvjsxfZ"
      },
      "execution_count": null,
      "outputs": []
    },
    {
      "cell_type": "code",
      "source": [
        "prediction_model = tf.keras.Sequential([\n",
        "    model,\n",
        "    tf.keras.layers.Softmax()\n",
        "])\n",
        "prediction = prediction_model.predict(testing_image)\n"
      ],
      "metadata": {
        "id": "AzlNDHI9o0Hg"
      },
      "execution_count": null,
      "outputs": []
    },
    {
      "cell_type": "code",
      "source": [
        "pred_label = np.argmax(prediction[9])\n",
        "pred_label\n",
        "\n"
      ],
      "metadata": {
        "id": "ZtarXP-_pB7p"
      },
      "execution_count": null,
      "outputs": []
    },
    {
      "cell_type": "code",
      "source": [
        "testing_label[9]"
      ],
      "metadata": {
        "id": "wWkc6uGqvXo1"
      },
      "execution_count": null,
      "outputs": []
    },
    {
      "cell_type": "markdown",
      "source": [
        "TO\"GRI NATIJA"
      ],
      "metadata": {
        "id": "jZkg0HAxtY2A"
      }
    },
    {
      "cell_type": "code",
      "source": [
        "class_names = ['T-shirt/top', 'Trouser', 'Pullover', 'Dress', 'Coat',\n",
        "               'Sandal', 'Shirt', 'Sneaker', 'Bag', 'Ankle boot']"
      ],
      "metadata": {
        "id": "sGNtbX5xwm1L"
      },
      "execution_count": null,
      "outputs": []
    },
    {
      "cell_type": "code",
      "source": [
        "class_names[7]"
      ],
      "metadata": {
        "id": "DrNtkjz-wmS5"
      },
      "execution_count": null,
      "outputs": []
    },
    {
      "cell_type": "code",
      "source": [
        "plt.imshow(testing_image[9])"
      ],
      "metadata": {
        "id": "TKULGC6Ftak9"
      },
      "execution_count": null,
      "outputs": []
    },
    {
      "cell_type": "code",
      "source": [],
      "metadata": {
        "id": "B29_P0UWgnrW"
      },
      "execution_count": null,
      "outputs": []
    },
    {
      "cell_type": "code",
      "source": [
        "def pred_image(pred_label,class_names:list[str],):\n",
        "  target_name = class_names[pred_label]\n",
        "\n",
        "  plt.imshow(target)"
      ],
      "metadata": {
        "id": "6lGKHyrRuUqi"
      },
      "execution_count": null,
      "outputs": []
    },
    {
      "cell_type": "code",
      "source": [
        "pred_image(pred_label,class_names)"
      ],
      "metadata": {
        "id": "jsxmlCSihboW"
      },
      "execution_count": null,
      "outputs": []
    },
    {
      "cell_type": "code",
      "source": [],
      "metadata": {
        "id": "FQDC9QQKhg-j"
      },
      "execution_count": null,
      "outputs": []
    }
  ]
}